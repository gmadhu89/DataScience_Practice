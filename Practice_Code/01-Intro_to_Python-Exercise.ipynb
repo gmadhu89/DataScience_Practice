{
 "cells": [
  {
   "cell_type": "markdown",
   "metadata": {},
   "source": [
    "jupyter nbconvert --to python YOURNOTEBOOKNAME.ipynb"
   ]
  },
  {
   "cell_type": "markdown",
   "metadata": {},
   "source": [
    "List Practice"
   ]
  },
  {
   "cell_type": "code",
   "execution_count": 83,
   "metadata": {},
   "outputs": [
    {
     "name": "stdout",
     "output_type": "stream",
     "text": [
      "['dude', '55']\n",
      "dude55\n",
      "55\n",
      "de5\n",
      "[3, 6, 9, 12, 15, 18, 21, 24]\n"
     ]
    }
   ],
   "source": [
    "my_new_list = [\"dude\",\"55\"]\n",
    "print(my_new_list)\n",
    "dude55 = my_new_list[0]+my_new_list[1]\n",
    "print(dude55)\n",
    "my_int = int(my_new_list[1])\n",
    "print(my_int)\n",
    "my_substring = dude55[2:5]\n",
    "print(my_substring)\n",
    "my_range = range(3,26,3)\n",
    "print(list(my_range))"
   ]
  },
  {
   "cell_type": "markdown",
   "metadata": {},
   "source": [
    "Dictionaries Practice"
   ]
  },
  {
   "cell_type": "code",
   "execution_count": 84,
   "metadata": {},
   "outputs": [
    {
     "name": "stdout",
     "output_type": "stream",
     "text": [
      "dict_keys(['manhattan', 'brooklyn', 'best borough'])\n",
      "dict_values(['work', 'play', 'brooklyn'])\n",
      "dict_items([('manhattan', 'work'), ('brooklyn', 'play'), ('best borough', 'brooklyn')])\n"
     ]
    },
    {
     "data": {
      "text/plain": [
       "dict_items([('manhattan', 'work'), ('best borough', 'brooklyn'), ('queen', 'england')])"
      ]
     },
     "execution_count": 84,
     "metadata": {},
     "output_type": "execute_result"
    }
   ],
   "source": [
    "nyc={'manhattan':'work','brooklyn':'play','best borough':'brooklyn'}\n",
    "type(nyc)\n",
    "print(nyc.keys())\n",
    "print(nyc.values())\n",
    "print(nyc.items())\n",
    "\n",
    "nyc['queen'] = 'england'\n",
    "nyc.items()\n",
    "\n",
    "del nyc['brooklyn']\n",
    "nyc.items()\n"
   ]
  },
  {
   "cell_type": "code",
   "execution_count": 85,
   "metadata": {},
   "outputs": [],
   "source": []
  },
  {
   "cell_type": "code",
   "execution_count": 86,
   "metadata": {},
   "outputs": [
    {
     "name": "stdout",
     "output_type": "stream",
     "text": [
      "brooklyn\n"
     ]
    },
    {
     "data": {
      "text/plain": [
       "dict_items([('manhattan', 'work'), ('best borough', 'brooklyn'), ('queen', 'england'), ('other boroughs', ['BRONX', 'STATEN ISLAND']), ('new jersey', 'city')])"
      ]
     },
     "execution_count": 86,
     "metadata": {},
     "output_type": "execute_result"
    }
   ],
   "source": [
    "nyc['queen']\n",
    "nyc['other boroughs'] = ['bronx','staten island']\n",
    "print(nyc['best borough'])\n",
    "nyc['new jersey'] = 'city'\n",
    "nyc['other boroughs'] = ['bronx','staten island']\n",
    "#print(nyc.items())\n",
    "nyc['other boroughs'] = [nyc['other boroughs'][0].upper(), nyc['other boroughs'][1].upper()]\n",
    "nyc.items()"
   ]
  },
  {
   "cell_type": "markdown",
   "metadata": {},
   "source": [
    "Functions Practice"
   ]
  },
  {
   "cell_type": "code",
   "execution_count": 68,
   "metadata": {},
   "outputs": [
    {
     "name": "stdout",
     "output_type": "stream",
     "text": [
      "420.0\n",
      "50.0\n"
     ]
    }
   ],
   "source": [
    "def compute_pay(hours,rate):\n",
    "    #print(hours*rate)\n",
    "    return hours*rate\n",
    "\n",
    "print(compute_pay(40,10.50))\n",
    "\n",
    "def get_hours_worked(total_pay,rate):\n",
    "    return float(total_pay)/rate\n",
    "print(get_hours_worked(500,10))\n",
    "    "
   ]
  },
  {
   "cell_type": "code",
   "execution_count": 87,
   "metadata": {},
   "outputs": [
    {
     "name": "stdout",
     "output_type": "stream",
     "text": [
      "8 9 10 11 12 13 14 15 16 17 "
     ]
    }
   ],
   "source": [
    "for i in range(1,11):\n",
    "    print(i+7, end = ' ')"
   ]
  },
  {
   "cell_type": "code",
   "execution_count": 88,
   "metadata": {},
   "outputs": [
    {
     "name": "stdout",
     "output_type": "stream",
     "text": [
      "['YO', 'HELLO', 'AWESOME']\n",
      "['F', 'A', 'N', 'C', 'Y']\n",
      "1\n",
      "awesome\n",
      "3\n",
      "awesome\n",
      "5\n",
      "awesome\n",
      "sauce\n",
      "awesome\n",
      "9\n",
      "awesome\n",
      "11\n",
      "awesome\n",
      "13\n",
      "awesome sauce\n",
      "15\n",
      "awesome\n",
      "17\n",
      "awesome\n",
      "19\n",
      "awesome\n",
      "sauce\n",
      "awesome\n",
      "23\n",
      "awesome\n",
      "25\n",
      "awesome\n",
      "27\n",
      "awesome sauce\n",
      "29\n",
      "awesome\n",
      "31\n",
      "awesome\n",
      "33\n",
      "awesome\n",
      "sauce\n",
      "awesome\n",
      "37\n",
      "awesome\n",
      "39\n",
      "awesome\n",
      "41\n",
      "awesome sauce\n",
      "43\n",
      "awesome\n",
      "45\n",
      "awesome\n",
      "47\n",
      "awesome\n",
      "sauce\n",
      "awesome\n",
      "51\n",
      "awesome\n",
      "53\n",
      "awesome\n",
      "55\n",
      "awesome sauce\n",
      "57\n",
      "awesome\n",
      "59\n",
      "awesome\n",
      "61\n",
      "awesome\n",
      "sauce\n",
      "awesome\n",
      "65\n",
      "awesome\n",
      "67\n",
      "awesome\n",
      "69\n",
      "awesome sauce\n",
      "71\n",
      "awesome\n",
      "73\n",
      "awesome\n",
      "75\n",
      "awesome\n",
      "sauce\n",
      "awesome\n",
      "79\n",
      "awesome\n",
      "81\n",
      "awesome\n",
      "83\n",
      "awesome sauce\n",
      "85\n",
      "awesome\n",
      "87\n",
      "awesome\n",
      "89\n",
      "awesome\n",
      "sauce\n",
      "awesome\n",
      "93\n",
      "awesome\n",
      "95\n",
      "awesome\n",
      "97\n",
      "awesome sauce\n",
      "99\n",
      "awesome\n"
     ]
    }
   ],
   "source": [
    "##List Comprehension\n",
    "\n",
    "words = ['yo','hello','awesome']\n",
    "list_words = [i.upper() for i in words]\n",
    "print(list_words)\n",
    "word = 'fancy'\n",
    "list_word = [i.upper() for i in word]\n",
    "print(list_word)\n",
    "\n",
    "def awesome_sauce():\n",
    "    for i in range(1,101):\n",
    "        if i%2 ==0 and i%7==0:\n",
    "            print('awesome sauce')\n",
    "        elif i%2 == 0:\n",
    "            print('awesome')\n",
    "        elif i%7 == 0:\n",
    "            print('sauce')\n",
    "        else:\n",
    "            print(i)\n",
    "\n",
    "awesome_sauce()"
   ]
  },
  {
   "cell_type": "markdown",
   "metadata": {},
   "source": [
    "Get Data From CSV"
   ]
  },
  {
   "cell_type": "code",
   "execution_count": 141,
   "metadata": {},
   "outputs": [
    {
     "name": "stdout",
     "output_type": "stream",
     "text": [
      "['63.03 22.55 39.61 40.48 98.67 -0.25 AB']\n",
      "['39.06 10.06 25.02 29 114.41 4.56 AB']\n",
      "['68.83 22.22 50.09 46.61 105.99 -3.53 AB']\n",
      "['69.3 24.65 44.31 44.64 101.87 11.21 AB']\n",
      "['49.71 9.65 28.32 40.06 108.17 7.92 AB']\n"
     ]
    }
   ],
   "source": [
    "import csv\n",
    "\n",
    "with open('C:/Users/Madhumita.Ganesan/Desktop/DataScience/data/vertebral_column_2_categories.txt','r') as f:\n",
    "    vertebral_data= [row for row in csv.reader(f)]\n",
    "    \n",
    "for line in vertebral_data[0:5]:\n",
    "    print(line)"
   ]
  },
  {
   "cell_type": "markdown",
   "metadata": {},
   "source": [
    "Get data from internet"
   ]
  },
  {
   "cell_type": "code",
   "execution_count": 106,
   "metadata": {},
   "outputs": [
    {
     "name": "stdout",
     "output_type": "stream",
     "text": [
      "5.1,3.5,1.4,0.2,Iris-setosa\n",
      "4.9,3.0,1.4,0.2,Iris-setosa\n",
      "4.7,3.2,1.3,0.2,Iris-setosa\n",
      "4.6,3.1,1.5,0.2,Iris-setosa\n",
      "5.0,3.6,1.4,0.2,Iris-setosa\n"
     ]
    }
   ],
   "source": [
    "import requests\n",
    "\n",
    "r = requests.get('https://archive.ics.uci.edu/ml/machine-learning-databases/iris/iris.data')\n",
    "\n",
    "iris_data = [row.decode('utf-8') for row in r.iter_lines()]\n",
    "\n",
    "for line in iris_data[:5]:\n",
    "    print(line)"
   ]
  },
  {
   "cell_type": "code",
   "execution_count": 139,
   "metadata": {},
   "outputs": [
    {
     "name": "stdout",
     "output_type": "stream",
     "text": [
      "List Comprehension version - Data Split\n",
      "[['5.1', '3.5', '1.4', '0.2', 'Iris-setosa'], ['4.9', '3.0', '1.4', '0.2', 'Iris-setosa'], ['4.7', '3.2', '1.3', '0.2', 'Iris-setosa'], ['4.6', '3.1', '1.5', '0.2', 'Iris-setosa'], ['5.0', '3.6', '1.4', '0.2', 'Iris-setosa']]\n",
      "Loop version - Data Split\n",
      "[['5.1', '3.5', '1.4', '0.2', 'Iris-setosa'], ['4.9', '3.0', '1.4', '0.2', 'Iris-setosa'], ['4.7', '3.2', '1.3', '0.2', 'Iris-setosa'], ['4.6', '3.1', '1.5', '0.2', 'Iris-setosa'], ['5.0', '3.6', '1.4', '0.2', 'Iris-setosa']]\n",
      "List Comprehension version - Convert numeric\n",
      "[[5.1, 3.5, 1.4, 0.2], [4.9, 3.0, 1.4, 0.2], [4.7, 3.2, 1.3, 0.2], [4.6, 3.1, 1.5, 0.2], [5.0, 3.6, 1.4, 0.2]]\n",
      "Loop version - Convert Numeric\n",
      "[5.1, 3.5, 1.4, 0.2]\n",
      "[4.9, 3.0, 1.4, 0.2]\n",
      "[4.7, 3.2, 1.3, 0.2]\n",
      "[4.6, 3.1, 1.5, 0.2]\n",
      "[5.0, 3.6, 1.4, 0.2]\n"
     ]
    }
   ],
   "source": [
    "## SPlit Iris Data items on commas\n",
    "\n",
    "import requests\n",
    "r= requests.get('https://archive.ics.uci.edu/ml/machine-learning-databases/iris/iris.data')\n",
    "iris_data=[row.decode('utf-8') for row in r.iter_lines()]\n",
    "\n",
    "##List Comprehension\n",
    "iris_data_split1 = [dude.split(\",\") for dude in iris_data]\n",
    "\n",
    "print(\"List Comprehension version - Data Split\")\n",
    "print(iris_data_split1[:5])\n",
    "\n",
    "##For Loop\n",
    "iris_data_split2 = []\n",
    "for i in iris_data:\n",
    "    iris_data_split2.append(i.split(\",\"))\n",
    "\n",
    "print(\"Loop version - Data Split\")\n",
    "print(iris_data_split2[:5])\n",
    "\n",
    "##Numeric entries on each item in iris_data\n",
    "##List COmprehension\n",
    "\n",
    "iris_data_numeric1 = [[float(var) for var in line.split(\",\")[:-1]] for line in iris_data]\n",
    "print(\"List Comprehension version - Convert numeric\")\n",
    "print(iris_data_numeric1[:5])\n",
    "\n",
    "## For Loop\n",
    "converted_list = []\n",
    "print(\"Loop version - Convert Numeric\")\n",
    "for line in iris_data:\n",
    "    split1 = line.split(\",\")[:-1]\n",
    "    converted_line_numbers = [float(num) for num in split1]\n",
    "    converted_list.append(converted_line_numbers)\n",
    "    \n",
    "for line in converted_list[:5]:\n",
    "        print(line)\n",
    "    \n",
    "    \n",
    "    \n",
    "    "
   ]
  },
  {
   "cell_type": "code",
   "execution_count": 140,
   "metadata": {},
   "outputs": [
    {
     "ename": "SyntaxError",
     "evalue": "invalid syntax (<ipython-input-140-4e20f23822d6>, line 1)",
     "output_type": "error",
     "traceback": [
      "\u001b[1;36m  File \u001b[1;32m\"<ipython-input-140-4e20f23822d6>\"\u001b[1;36m, line \u001b[1;32m1\u001b[0m\n\u001b[1;33m    jupyter nbconvert --to python 01-Intro_to_Python-Exercise.ipynb\u001b[0m\n\u001b[1;37m                    ^\u001b[0m\n\u001b[1;31mSyntaxError\u001b[0m\u001b[1;31m:\u001b[0m invalid syntax\n"
     ]
    }
   ],
   "source": [
    "jupyter nbconvert --to python 01-Intro_to_Python-Exercise.ipynb"
   ]
  },
  {
   "cell_type": "code",
   "execution_count": null,
   "metadata": {},
   "outputs": [],
   "source": []
  }
 ],
 "metadata": {
  "kernelspec": {
   "display_name": "Python 3",
   "language": "python",
   "name": "python3"
  },
  "language_info": {
   "codemirror_mode": {
    "name": "ipython",
    "version": 3
   },
   "file_extension": ".py",
   "mimetype": "text/x-python",
   "name": "python",
   "nbconvert_exporter": "python",
   "pygments_lexer": "ipython3",
   "version": "3.7.3"
  }
 },
 "nbformat": 4,
 "nbformat_minor": 2
}
