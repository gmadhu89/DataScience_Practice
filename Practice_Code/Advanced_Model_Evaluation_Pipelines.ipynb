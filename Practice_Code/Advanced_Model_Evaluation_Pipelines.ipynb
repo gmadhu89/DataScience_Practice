{
 "cells": [
  {
   "cell_type": "code",
   "execution_count": 1,
   "metadata": {},
   "outputs": [],
   "source": [
    "#data handling, model creation/evaluation\n",
    "import pandas as pd\n",
    "import numpy as np\n",
    "from sklearn.model_selection import KFold, train_test_split, cross_val_score\n",
    "from sklearn.linear_model import LogisticRegression\n",
    "from sklearn.ensemble import RandomForestClassifier, RandomForestRegressor\n",
    "from sklearn.preprocessing import LabelEncoder, StandardScaler, PolynomialFeatures\n",
    "from sklearn import metrics\n",
    "import scipy.stats as stats\n",
    "\n",
    "# visualization\n",
    "%matplotlib inline\n",
    "import seaborn as sns"
   ]
  },
  {
   "cell_type": "markdown",
   "metadata": {},
   "source": [
    "### NULL ACCURACY \n",
    "\n",
    "Null accuracy measures what our expected accuracy should be if we run the most frequent response as our prediction for every new sample we see."
   ]
  },
  {
   "cell_type": "code",
   "execution_count": 13,
   "metadata": {},
   "outputs": [
    {
     "name": "stdout",
     "output_type": "stream",
     "text": [
      "Predicted accuracy of Logistic Regression model is  0.8709677419354839\n"
     ]
    }
   ],
   "source": [
    "## Applying Logistic regression on Vertebral data\n",
    "vertebral_data = pd.read_csv('C:/Users/Madhumitha.Ganesan/Desktop/DataScience/DataScience/data/vertebral_column_2_categories.txt',\n",
    "                             sep=\" \",\n",
    "                             names = [\"pelvic_incidence\",\"pelvic_tilt\",\"lumbar_lordosis_angle\",\n",
    "                                    \"sacral_slope\",\"pelvic_radius\",\"spondy_grade\",\"outcome\"])\n",
    "vertebral_data.outcome.value_counts()\n",
    "vertebral_data.outcome =(vertebral_data.outcome == 'AB').astype(int)\n",
    "X = vertebral_data[vertebral_data.columns.to_list()[:-1]]\n",
    "y=vertebral_data.outcome\n",
    "\n",
    "X_train, X_test,y_train, y_test = train_test_split(X,y,test_size=0.3,random_state=1)\n",
    "\n",
    "lr=LogisticRegression(C=1e9,solver='lbfgs')\n",
    "lr.fit(X_train,y_train)\n",
    "y_test_pred = lr.predict(X_test)\n",
    "\n",
    "print(\"Predicted accuracy of Logistic Regression model is \",metrics.accuracy_score(y_test,y_test_pred))"
   ]
  },
  {
   "cell_type": "code",
   "execution_count": 14,
   "metadata": {},
   "outputs": [
    {
     "name": "stdout",
     "output_type": "stream",
     "text": [
      "NUll accuracy on the test set is  0.7096774193548387\n"
     ]
    }
   ],
   "source": [
    "## Manually computing NULL accuracy\n",
    "print(\"NUll accuracy on the test set is \",y_test.mean())"
   ]
  },
  {
   "cell_type": "code",
   "execution_count": 15,
   "metadata": {},
   "outputs": [
    {
     "name": "stdout",
     "output_type": "stream",
     "text": [
      "Most frequent class dummy classifier test accuracy is  0.7096774193548387\n"
     ]
    }
   ],
   "source": [
    "## Identifying NULL accuracy using Dummy Classifier\n",
    "\n",
    "from sklearn.dummy import DummyClassifier\n",
    "dumb_model = DummyClassifier(strategy='most_frequent')\n",
    "dumb_model.fit(X_train,y_train)\n",
    "y_dumb_class=dumb_model.predict(X_test)\n",
    "print(\"Most frequent class dummy classifier test accuracy is \", metrics.accuracy_score(y_test,y_dumb_class))"
   ]
  },
  {
   "cell_type": "code",
   "execution_count": 19,
   "metadata": {},
   "outputs": [
    {
     "name": "stdout",
     "output_type": "stream",
     "text": [
      "10 fold Cross val score metrics accuracy is  0.6638339920948617\n"
     ]
    }
   ],
   "source": [
    "## Logistic model with cross - fold metrics 10 fold\n",
    "\n",
    "dumb_model1=DummyClassifier(strategy='most_frequent')\n",
    "scores=cross_val_score(dumb_model1,X_train,y_train,cv=10,scoring='accuracy')\n",
    "print(\"10 fold Cross val score metrics accuracy is \",scores.mean())"
   ]
  },
  {
   "cell_type": "code",
   "execution_count": 25,
   "metadata": {},
   "outputs": [
    {
     "name": "stdout",
     "output_type": "stream",
     "text": [
      "10 fold Cross val score metrics accuracy is  0.6660714285714289\n"
     ]
    }
   ],
   "source": [
    "## Logistic model with cross - fold metrics 30 fold\n",
    "\n",
    "dumb_model2=DummyClassifier(strategy='most_frequent')\n",
    "scores1=cross_val_score(dumb_model2,X_train,y_train,cv=30,scoring='accuracy')\n",
    "print(\"10 fold Cross val score metrics accuracy is \",scores1.mean())"
   ]
  },
  {
   "cell_type": "code",
   "execution_count": 27,
   "metadata": {},
   "outputs": [
    {
     "data": {
      "text/plain": [
       "array([[21,  6],\n",
       "       [ 6, 60]], dtype=int64)"
      ]
     },
     "execution_count": 27,
     "metadata": {},
     "output_type": "execute_result"
    }
   ],
   "source": [
    "## Confusion Matrix\n",
    "## Rows = Actual\n",
    "## COlumns = Predicted\n",
    "#  [TN  FP\n",
    "#   FN  TP]\n",
    "cm=metrics.confusion_matrix(y_test,y_test_pred)\n",
    "cm"
   ]
  },
  {
   "cell_type": "code",
   "execution_count": 28,
   "metadata": {},
   "outputs": [
    {
     "name": "stdout",
     "output_type": "stream",
     "text": [
      "Sensitivity/Recall (TPR):  0.9090909090909091\n",
      "Specificity (TNR):  0.7777777777777778\n",
      "Precision (PPV):  0.9090909090909091\n",
      "NPV:  0.7777777777777778\n",
      "Accuracy:  0.8709677419354839\n",
      "F1: 0.9090909090909091\n"
     ]
    }
   ],
   "source": [
    "\n",
    "# calculate each metric by hand\n",
    "print(\"Sensitivity/Recall (TPR): \",cm[1,1] / float(cm[1,1] + cm[1,0]))\n",
    "print(\"Specificity (TNR): \", cm[0,0] / float(cm[0,0] + cm[0,1]))\n",
    "print(\"Precision (PPV): \", cm[1,1] / float(cm[1,1]+cm[0,1]))\n",
    "print(\"NPV: \", cm[0,0] / float(cm[0,0]+cm[1,0]))\n",
    "print(\"Accuracy: \", (cm[1,1]+cm[0,0]) / float(cm.sum()))\n",
    "print(\"F1:\", metrics.f1_score(y_test,y_test_pred))"
   ]
  },
  {
   "cell_type": "code",
   "execution_count": 29,
   "metadata": {},
   "outputs": [
    {
     "name": "stdout",
     "output_type": "stream",
     "text": [
      "Sensitivity/Recall (TPR):  0.9090909090909091\n",
      "Precision (PPV):  0.9090909090909091\n",
      "Accuracy:  0.8709677419354839\n",
      "F1: 0.9090909090909091\n"
     ]
    }
   ],
   "source": [
    "# calculate some of these metrics using sklearn and the test set samples\n",
    "print(\"Sensitivity/Recall (TPR): \",metrics.recall_score(y_test,y_test_pred))\n",
    "print(\"Precision (PPV): \", metrics.precision_score(y_test,y_test_pred))\n",
    "print(\"Accuracy: \", metrics.accuracy_score(y_test,y_test_pred))\n",
    "print(\"F1:\", metrics.f1_score(y_test,y_test_pred))"
   ]
  },
  {
   "cell_type": "code",
   "execution_count": 30,
   "metadata": {},
   "outputs": [
    {
     "name": "stdout",
     "output_type": "stream",
     "text": [
      "Classification Report:\n",
      "               precision    recall  f1-score   support\n",
      "\n",
      "           0       0.78      0.78      0.78        27\n",
      "           1       0.91      0.91      0.91        66\n",
      "\n",
      "    accuracy                           0.87        93\n",
      "   macro avg       0.84      0.84      0.84        93\n",
      "weighted avg       0.87      0.87      0.87        93\n",
      "\n"
     ]
    }
   ],
   "source": [
    "print(\"Classification Report:\\n\", metrics.classification_report(y_test,y_test_pred))"
   ]
  },
  {
   "cell_type": "code",
   "execution_count": 81,
   "metadata": {},
   "outputs": [
    {
     "name": "stdout",
     "output_type": "stream",
     "text": [
      "Logistic regression predicted probabilities for first 5 samples are :  [[0.018 0.982]\n",
      " [0.111 0.889]\n",
      " [0.011 0.989]\n",
      " [0.094 0.906]\n",
      " [0.01  0.99 ]]\n",
      "Logistic regression predicted for first 5 samples are :  [1 1 1 1 1]\n"
     ]
    },
    {
     "data": {
      "text/html": [
       "<div>\n",
       "<style scoped>\n",
       "    .dataframe tbody tr th:only-of-type {\n",
       "        vertical-align: middle;\n",
       "    }\n",
       "\n",
       "    .dataframe tbody tr th {\n",
       "        vertical-align: top;\n",
       "    }\n",
       "\n",
       "    .dataframe thead th {\n",
       "        text-align: right;\n",
       "    }\n",
       "</style>\n",
       "<table border=\"1\" class=\"dataframe\">\n",
       "  <thead>\n",
       "    <tr style=\"text-align: right;\">\n",
       "      <th></th>\n",
       "      <th>class_0</th>\n",
       "      <th>class_1</th>\n",
       "      <th>predicted</th>\n",
       "      <th>actual</th>\n",
       "    </tr>\n",
       "  </thead>\n",
       "  <tbody>\n",
       "    <tr>\n",
       "      <th>0</th>\n",
       "      <td>0.018</td>\n",
       "      <td>0.982</td>\n",
       "      <td>1.0</td>\n",
       "      <td>1.0</td>\n",
       "    </tr>\n",
       "    <tr>\n",
       "      <th>1</th>\n",
       "      <td>0.111</td>\n",
       "      <td>0.889</td>\n",
       "      <td>1.0</td>\n",
       "      <td>0.0</td>\n",
       "    </tr>\n",
       "    <tr>\n",
       "      <th>2</th>\n",
       "      <td>0.011</td>\n",
       "      <td>0.989</td>\n",
       "      <td>1.0</td>\n",
       "      <td>1.0</td>\n",
       "    </tr>\n",
       "    <tr>\n",
       "      <th>3</th>\n",
       "      <td>0.094</td>\n",
       "      <td>0.906</td>\n",
       "      <td>1.0</td>\n",
       "      <td>1.0</td>\n",
       "    </tr>\n",
       "    <tr>\n",
       "      <th>4</th>\n",
       "      <td>0.010</td>\n",
       "      <td>0.990</td>\n",
       "      <td>1.0</td>\n",
       "      <td>1.0</td>\n",
       "    </tr>\n",
       "  </tbody>\n",
       "</table>\n",
       "</div>"
      ],
      "text/plain": [
       "   class_0  class_1  predicted  actual\n",
       "0    0.018    0.982        1.0     1.0\n",
       "1    0.111    0.889        1.0     0.0\n",
       "2    0.011    0.989        1.0     1.0\n",
       "3    0.094    0.906        1.0     1.0\n",
       "4    0.010    0.990        1.0     1.0"
      ]
     },
     "execution_count": 81,
     "metadata": {},
     "output_type": "execute_result"
    }
   ],
   "source": [
    "### PREDICTION PROBABILITIES \n",
    "\n",
    "predicted_probs_lr = lr.predict_proba(X_test).round(3)\n",
    "predicted_lr = lr.predict(X_test)\n",
    "\n",
    "print(\"Logistic regression predicted probabilities for first 5 samples are : \", predicted_probs_lr[:5])\n",
    "print(\"Logistic regression predicted for first 5 samples are : \",predicted_lr[:5])\n",
    "\n",
    "y_test_lr_df = pd.DataFrame(np.concatenate((predicted_probs_lr,predicted_lr.reshape(predicted_lr.shape[0],-1),y_test.values.reshape(y_test.shape[0],-1)),axis=1),columns=[\"class_0\",\"class_1\",\"predicted\",\"actual\"])\n",
    "\n",
    "y_test_lr_df.head()"
   ]
  },
  {
   "cell_type": "code",
   "execution_count": 85,
   "metadata": {},
   "outputs": [
    {
     "data": {
      "text/html": [
       "<div>\n",
       "<style scoped>\n",
       "    .dataframe tbody tr th:only-of-type {\n",
       "        vertical-align: middle;\n",
       "    }\n",
       "\n",
       "    .dataframe tbody tr th {\n",
       "        vertical-align: top;\n",
       "    }\n",
       "\n",
       "    .dataframe thead th {\n",
       "        text-align: right;\n",
       "    }\n",
       "</style>\n",
       "<table border=\"1\" class=\"dataframe\">\n",
       "  <thead>\n",
       "    <tr style=\"text-align: right;\">\n",
       "      <th></th>\n",
       "      <th>column_0</th>\n",
       "      <th>columns_1</th>\n",
       "      <th>predicted</th>\n",
       "      <th>actual</th>\n",
       "    </tr>\n",
       "  </thead>\n",
       "  <tbody>\n",
       "    <tr>\n",
       "      <th>0</th>\n",
       "      <td>0.09</td>\n",
       "      <td>0.91</td>\n",
       "      <td>1.0</td>\n",
       "      <td>1.0</td>\n",
       "    </tr>\n",
       "    <tr>\n",
       "      <th>1</th>\n",
       "      <td>0.28</td>\n",
       "      <td>0.72</td>\n",
       "      <td>1.0</td>\n",
       "      <td>0.0</td>\n",
       "    </tr>\n",
       "    <tr>\n",
       "      <th>2</th>\n",
       "      <td>0.04</td>\n",
       "      <td>0.96</td>\n",
       "      <td>1.0</td>\n",
       "      <td>1.0</td>\n",
       "    </tr>\n",
       "    <tr>\n",
       "      <th>3</th>\n",
       "      <td>0.02</td>\n",
       "      <td>0.98</td>\n",
       "      <td>1.0</td>\n",
       "      <td>1.0</td>\n",
       "    </tr>\n",
       "    <tr>\n",
       "      <th>4</th>\n",
       "      <td>0.19</td>\n",
       "      <td>0.81</td>\n",
       "      <td>1.0</td>\n",
       "      <td>1.0</td>\n",
       "    </tr>\n",
       "    <tr>\n",
       "      <th>5</th>\n",
       "      <td>0.06</td>\n",
       "      <td>0.94</td>\n",
       "      <td>1.0</td>\n",
       "      <td>1.0</td>\n",
       "    </tr>\n",
       "    <tr>\n",
       "      <th>6</th>\n",
       "      <td>0.83</td>\n",
       "      <td>0.17</td>\n",
       "      <td>0.0</td>\n",
       "      <td>0.0</td>\n",
       "    </tr>\n",
       "    <tr>\n",
       "      <th>7</th>\n",
       "      <td>0.01</td>\n",
       "      <td>0.99</td>\n",
       "      <td>1.0</td>\n",
       "      <td>1.0</td>\n",
       "    </tr>\n",
       "    <tr>\n",
       "      <th>8</th>\n",
       "      <td>0.01</td>\n",
       "      <td>0.99</td>\n",
       "      <td>1.0</td>\n",
       "      <td>1.0</td>\n",
       "    </tr>\n",
       "    <tr>\n",
       "      <th>9</th>\n",
       "      <td>0.57</td>\n",
       "      <td>0.43</td>\n",
       "      <td>0.0</td>\n",
       "      <td>0.0</td>\n",
       "    </tr>\n",
       "  </tbody>\n",
       "</table>\n",
       "</div>"
      ],
      "text/plain": [
       "   column_0  columns_1  predicted  actual\n",
       "0      0.09       0.91        1.0     1.0\n",
       "1      0.28       0.72        1.0     0.0\n",
       "2      0.04       0.96        1.0     1.0\n",
       "3      0.02       0.98        1.0     1.0\n",
       "4      0.19       0.81        1.0     1.0\n",
       "5      0.06       0.94        1.0     1.0\n",
       "6      0.83       0.17        0.0     0.0\n",
       "7      0.01       0.99        1.0     1.0\n",
       "8      0.01       0.99        1.0     1.0\n",
       "9      0.57       0.43        0.0     0.0"
      ]
     },
     "execution_count": 85,
     "metadata": {},
     "output_type": "execute_result"
    }
   ],
   "source": [
    "## Predicted Probabilities for trained model using Random forests\n",
    "\n",
    "rf=RandomForestClassifier(n_estimators=100)\n",
    "rf.fit(X_train,y_train)\n",
    "\n",
    "predicted_rf_probs=rf.predict_proba(X_test)\n",
    "predicted_rf = rf.predict(X_test)\n",
    "\n",
    "y_test_rf_df = pd.DataFrame(np.concatenate((predicted_rf_probs,predicted_rf.reshape(predicted_rf.shape[0],-1),y_test.values.reshape(y_test.shape[0],-1)),axis=1),columns=[\"column_0\",\"columns_1\",\"predicted\",\"actual\"])\n",
    "y_test_rf_df.head(10)"
   ]
  },
  {
   "cell_type": "markdown",
   "metadata": {},
   "source": [
    "## For both logistic regression and Random Forest probabilities , the threshold value is set to 0.5 for determining the predicted class.\n",
    "## This threshold need not always be 0.5\n",
    "\n",
    "\n",
    "## The thresholds can be varied and this can be illustrated by the ROC curve (Receiver Operating Characteristic Curve)"
   ]
  },
  {
   "cell_type": "code",
   "execution_count": 96,
   "metadata": {},
   "outputs": [
    {
     "name": "stderr",
     "output_type": "stream",
     "text": [
      "c:\\users\\madhumitha.ganesan\\appdata\\local\\programs\\python\\python37-32\\lib\\site-packages\\ipykernel_launcher.py:12: MatplotlibDeprecationWarning: Unrecognized location 'Lower right'. Falling back on 'best'; valid locations are\n",
      "\tbest\n",
      "\tupper right\n",
      "\tupper left\n",
      "\tlower left\n",
      "\tlower right\n",
      "\tright\n",
      "\tcenter left\n",
      "\tcenter right\n",
      "\tlower center\n",
      "\tupper center\n",
      "\tcenter\n",
      "This will raise an exception in 3.3.\n",
      "  if sys.path[0] == '':\n"
     ]
    },
    {
     "data": {
      "text/plain": [
       "Text(0, 0.5, 'True Positive rate (Sensitivity)')"
      ]
     },
     "execution_count": 96,
     "metadata": {},
     "output_type": "execute_result"
    },
    {
     "data": {
      "image/png": "[encoded data removed]",
      "text/plain": [
       "<Figure size 432x288 with 1 Axes>"
      ]
     },
     "metadata": {
      "needs_background": "light"
     },
     "output_type": "display_data"
    }
   ],
   "source": [
    "## Generate Logistic Regression model false positive and true positive rates\n",
    "fp_lr,tp_lr,thresholds_lr = metrics.roc_curve(y_test,predicted_probs_lr[:,1])\n",
    "\n",
    "## Generate same for Random forest Classifier\n",
    "fpr_rf,tpr_rf,thresholds_rf = metrics.roc_curve(y_test,predicted_rf_probs[:,1])\n",
    "\n",
    "## Plot LR and RF model ROC curves\n",
    "sns.mpl.pyplot.plot(fp_lr,tp_lr,label=\"lr\")\n",
    "sns.mpl.pyplot.plot(fpr_rf,tpr_rf,label=\"rf\")\n",
    "sns.mpl.pyplot.xlim([0,1])\n",
    "sns.mpl.pyplot.ylim([0,1.05])\n",
    "sns.mpl.pyplot.legend(loc=\"Lower right\")\n",
    "sns.mpl.pyplot.xlabel(\"False Positive Rate (1-Specificity)\")\n",
    "sns.mpl.pyplot.ylabel(\"True Positive rate (Sensitivity)\")"
   ]
  },
  {
   "cell_type": "code",
   "execution_count": 97,
   "metadata": {},
   "outputs": [],
   "source": [
    "### Metric AUC (Area under Curve) allows you to quantify the overall performance of binary classifier, regardless of threshold.\n",
    "## Higher AUC, better the predicted probabilities in the model"
   ]
  },
  {
   "cell_type": "code",
   "execution_count": 98,
   "metadata": {},
   "outputs": [
    {
     "name": "stdout",
     "output_type": "stream",
     "text": [
      "LR model AUC is  0.9357463524130191\n",
      "RF model AUC is  0.9118967452300786\n"
     ]
    }
   ],
   "source": [
    "## Calculate AUC value for RF and LR models\n",
    "print(\"LR model AUC is \",metrics.roc_auc_score(y_test,predicted_probs_lr[:,1]))\n",
    "print(\"RF model AUC is \",metrics.roc_auc_score(y_test,predicted_rf_probs[:,1]))"
   ]
  },
  {
   "cell_type": "code",
   "execution_count": 99,
   "metadata": {},
   "outputs": [
    {
     "data": {
      "text/plain": [
       "Text(0, 0.5, 'True Positive rate (Sensitivity) or Class 1 Threshold Probability')"
      ]
     },
     "execution_count": 99,
     "metadata": {},
     "output_type": "execute_result"
    },
    {
     "data": {
      "image/png": "[encoded data removed]",
      "text/plain": [
       "<Figure size 432x288 with 1 Axes>"
      ]
     },
     "metadata": {
      "needs_background": "light"
     },
     "output_type": "display_data"
    }
   ],
   "source": [
    "## Plotting the ROC curve for LR False Positives vs Class 1 Thresholds \n",
    "\n",
    "sns.mpl.pyplot.plot(fp_lr,tp_lr,label=\"lr\")\n",
    "sns.mpl.pyplot.plot(fp_lr,thresholds_lr,label=\"lr_thresh\")\n",
    "sns.mpl.pyplot.xlim([0,1])\n",
    "sns.mpl.pyplot.ylim([0,1.05])\n",
    "sns.mpl.pyplot.legend(loc=\"center\")\n",
    "sns.mpl.pyplot.xlabel(\"False Positive Rate (1-Specificity)\")\n",
    "sns.mpl.pyplot.ylabel(\"True Positive rate (Sensitivity) or Class 1 Threshold Probability\")"
   ]
  },
  {
   "cell_type": "code",
   "execution_count": 105,
   "metadata": {},
   "outputs": [
    {
     "data": {
      "text/html": [
       "<div>\n",
       "<style scoped>\n",
       "    .dataframe tbody tr th:only-of-type {\n",
       "        vertical-align: middle;\n",
       "    }\n",
       "\n",
       "    .dataframe tbody tr th {\n",
       "        vertical-align: top;\n",
       "    }\n",
       "\n",
       "    .dataframe thead th {\n",
       "        text-align: right;\n",
       "    }\n",
       "</style>\n",
       "<table border=\"1\" class=\"dataframe\">\n",
       "  <thead>\n",
       "    <tr style=\"text-align: right;\">\n",
       "      <th></th>\n",
       "      <th>class_0</th>\n",
       "      <th>class_1</th>\n",
       "      <th>predicted</th>\n",
       "      <th>actual</th>\n",
       "    </tr>\n",
       "  </thead>\n",
       "  <tbody>\n",
       "    <tr>\n",
       "      <th>0</th>\n",
       "      <td>0.018</td>\n",
       "      <td>0.982</td>\n",
       "      <td>1.0</td>\n",
       "      <td>1.0</td>\n",
       "    </tr>\n",
       "    <tr>\n",
       "      <th>1</th>\n",
       "      <td>0.111</td>\n",
       "      <td>0.889</td>\n",
       "      <td>1.0</td>\n",
       "      <td>0.0</td>\n",
       "    </tr>\n",
       "    <tr>\n",
       "      <th>2</th>\n",
       "      <td>0.011</td>\n",
       "      <td>0.989</td>\n",
       "      <td>1.0</td>\n",
       "      <td>1.0</td>\n",
       "    </tr>\n",
       "    <tr>\n",
       "      <th>3</th>\n",
       "      <td>0.094</td>\n",
       "      <td>0.906</td>\n",
       "      <td>1.0</td>\n",
       "      <td>1.0</td>\n",
       "    </tr>\n",
       "    <tr>\n",
       "      <th>4</th>\n",
       "      <td>0.010</td>\n",
       "      <td>0.990</td>\n",
       "      <td>1.0</td>\n",
       "      <td>1.0</td>\n",
       "    </tr>\n",
       "  </tbody>\n",
       "</table>\n",
       "</div>"
      ],
      "text/plain": [
       "   class_0  class_1  predicted  actual\n",
       "0    0.018    0.982        1.0     1.0\n",
       "1    0.111    0.889        1.0     0.0\n",
       "2    0.011    0.989        1.0     1.0\n",
       "3    0.094    0.906        1.0     1.0\n",
       "4    0.010    0.990        1.0     1.0"
      ]
     },
     "execution_count": 105,
     "metadata": {},
     "output_type": "execute_result"
    }
   ],
   "source": [
    "## Using the new threshold as 0.7 and generating the predictions and seeing the confusion matrix\n",
    "\n",
    "y_test_lr_df.head()"
   ]
  },
  {
   "cell_type": "code",
   "execution_count": 117,
   "metadata": {},
   "outputs": [
    {
     "name": "stdout",
     "output_type": "stream",
     "text": [
      "Confusion matrix for LR predicted model is  [[21  6]\n",
      " [ 6 60]]\n",
      "Classification report for LR predicted model is                precision    recall  f1-score   support\n",
      "\n",
      "         0.0       0.78      0.78      0.78        27\n",
      "         1.0       0.91      0.91      0.91        66\n",
      "\n",
      "    accuracy                           0.87        93\n",
      "   macro avg       0.84      0.84      0.84        93\n",
      "weighted avg       0.87      0.87      0.87        93\n",
      "\n",
      "Confusion matrix for selected threshold applied prediction is  [[24  3]\n",
      " [11 55]]\n",
      "Classification report for selected threshold model is                precision    recall  f1-score   support\n",
      "\n",
      "         0.0       0.69      0.89      0.77        27\n",
      "         1.0       0.95      0.83      0.89        66\n",
      "\n",
      "    accuracy                           0.85        93\n",
      "   macro avg       0.82      0.86      0.83        93\n",
      "weighted avg       0.87      0.85      0.85        93\n",
      "\n"
     ]
    }
   ],
   "source": [
    "y_test_lr_df[\"predicted_07\"] = (y_test_lr_df.class_1 > 0.7).astype(float)\n",
    "y_test_lr_df.head()\n",
    "\n",
    "print(\"Confusion matrix for LR predicted model is \",metrics.confusion_matrix(y_test,y_test_pred))\n",
    "print(\"Classification report for LR predicted model is \",metrics.classification_report(y_test_lr_df.actual,y_test_lr_df.predicted))\n",
    "\n",
    "print(\"Confusion matrix for selected threshold applied prediction is \",metrics.confusion_matrix(y_test,y_test_lr_df.predicted_07))\n",
    "print(\"Classification report for selected threshold model is \",metrics.classification_report(y_test_lr_df.actual,y_test_lr_df.predicted_07))"
   ]
  },
  {
   "cell_type": "markdown",
   "metadata": {},
   "source": [
    "## Always use predicted probabilities for computing AUC rather than the class labels"
   ]
  },
  {
   "cell_type": "code",
   "execution_count": 119,
   "metadata": {},
   "outputs": [
    {
     "name": "stdout",
     "output_type": "stream",
     "text": [
      "Wrong way to calculate LR model AUC:  0.8434343434343434\n",
      "Wrong way to calculate RF model AUC:  0.8097643097643098\n"
     ]
    }
   ],
   "source": [
    "# calculate AUC using y_pred_class (producing incorrect results)\n",
    "print(\"Wrong way to calculate LR model AUC: \",metrics.roc_auc_score(y_test, predicted_lr))\n",
    "print(\"Wrong way to calculate RF model AUC: \",metrics.roc_auc_score(y_test, predicted_rf))"
   ]
  },
  {
   "cell_type": "code",
   "execution_count": 121,
   "metadata": {},
   "outputs": [
    {
     "data": {
      "text/plain": [
       "array([<matplotlib.axes._subplots.AxesSubplot object at 0x14C34EF0>,\n",
       "       <matplotlib.axes._subplots.AxesSubplot object at 0x14C51C10>],\n",
       "      dtype=object)"
      ]
     },
     "execution_count": 121,
     "metadata": {},
     "output_type": "execute_result"
    },
    {
     "data": {
      "image/png": "[encoded data removed]",
      "text/plain": [
       "<Figure size 432x288 with 2 Axes>"
      ]
     },
     "metadata": {
      "needs_background": "light"
     },
     "output_type": "display_data"
    },
    {
     "data": {
      "image/png": "[encoded data removed]",
      "text/plain": [
       "<Figure size 432x288 with 2 Axes>"
      ]
     },
     "metadata": {
      "needs_background": "light"
     },
     "output_type": "display_data"
    }
   ],
   "source": [
    "## Histogram to compare the predicted probabilities grouped by actual response value for LR\n",
    "\n",
    "y_test_lr_df.class_1.hist(by=y_test_lr_df.actual,sharex=True,sharey=True)\n",
    "y_test_rf_df.columns_1.hist(by=y_test_rf_df.actual,sharex=True,sharey=True)"
   ]
  },
  {
   "cell_type": "markdown",
   "metadata": {},
   "source": [
    "### For ROC/AUC - Only the order of Probabilities matter, not the values"
   ]
  },
  {
   "cell_type": "code",
   "execution_count": 126,
   "metadata": {},
   "outputs": [
    {
     "name": "stdout",
     "output_type": "stream",
     "text": [
      "test set accuracy of 0.5 threshold value LR model is  0.8709677419354839\n"
     ]
    }
   ],
   "source": [
    "verteb_data=pd.read_csv(\"C:/Users/Madhumitha.Ganesan/Desktop/DataScience/DataScience/data/vertebral_column_2_categories.txt\",sep=\" \",names=[\"pelvic_incidence\",\"pelvic_tilt\",\"lumbar_lordosis_angle\",\n",
    "                                    \"sacral_slope\",\"pelvic_radius\",\"spondy_grade\",\"outcome\"])\n",
    "\n",
    "## Converting outcome to binary value\n",
    "le=LabelEncoder()\n",
    "verteb_data.outcome=le.fit_transform(verteb_data.outcome)\n",
    "X=verteb_data[verteb_data.columns.tolist()[:-1]]\n",
    "y=verteb_data.outcome\n",
    "\n",
    "## Create test/train split\n",
    "X_train,X_test,y_train,y_test=train_test_split(X,y,test_size=0.3,random_state=1)\n",
    "## Creating Logistic Regression model\n",
    "lr=LogisticRegression(solver='lbfgs')\n",
    "lr.fit(X_train,y_train)\n",
    "\n",
    "y_test_pred = lr.predict(X_test)\n",
    "print(\"test set accuracy of 0.5 threshold value LR model is \",metrics.accuracy_score(y_test,y_test_pred))"
   ]
  },
  {
   "cell_type": "code",
   "execution_count": 134,
   "metadata": {},
   "outputs": [
    {
     "data": {
      "text/plain": [
       "(array([45.,  8.,  5.,  3.,  5.,  2.,  1.,  8.,  6., 10.]),\n",
       " array([1.35747793e-09, 9.98818149e-02, 1.99763628e-01, 2.99645442e-01,\n",
       "        3.99527256e-01, 4.99409069e-01, 5.99290883e-01, 6.99172696e-01,\n",
       "        7.99054510e-01, 8.98936323e-01, 9.98818137e-01]),\n",
       " <a list of 10 Patch objects>)"
      ]
     },
     "execution_count": 134,
     "metadata": {},
     "output_type": "execute_result"
    },
    {
     "data": {
      "image/png": "[encoded data removed]",
      "text/plain": [
       "<Figure size 432x288 with 1 Axes>"
      ]
     },
     "metadata": {
      "needs_background": "light"
     },
     "output_type": "display_data"
    }
   ],
   "source": [
    "## Calculate predicted probabilites of class 1\n",
    "y_test_prob1 = lr.predict_proba(X_test)[:,1]\n",
    "## Showing predicted probabilities in histogram\n",
    "sns.mpl.pyplot.hist(y_test_prob1)"
   ]
  },
  {
   "cell_type": "code",
   "execution_count": 135,
   "metadata": {},
   "outputs": [
    {
     "data": {
      "text/plain": [
       "0.936026936026936"
      ]
     },
     "execution_count": 135,
     "metadata": {},
     "output_type": "execute_result"
    }
   ],
   "source": [
    "## Calculate AUC\n",
    "metrics.roc_auc_score(y_test,y_test_prob1)"
   ]
  },
  {
   "cell_type": "code",
   "execution_count": 136,
   "metadata": {},
   "outputs": [
    {
     "data": {
      "text/plain": [
       "Text(0, 0.5, 'True positive rate (sensitivity)')"
      ]
     },
     "execution_count": 136,
     "metadata": {},
     "output_type": "execute_result"
    },
    {
     "data": {
      "image/png": "[encoded data removed]",
      "text/plain": [
       "<Figure size 432x288 with 1 Axes>"
      ]
     },
     "metadata": {
      "needs_background": "light"
     },
     "output_type": "display_data"
    }
   ],
   "source": [
    "## Plot ROC curve\n",
    "fpr,tpr,thesholds = metrics.roc_curve(y_test,y_test_prob1)\n",
    "sns.mpl.pyplot.plot(fpr,tpr)\n",
    "sns.mpl.pyplot.xlim([0,1])\n",
    "sns.mpl.pyplot.ylim([0,1.05])\n",
    "sns.mpl.pyplot.xlabel('False positive rate (1-specificity)')\n",
    "sns.mpl.pyplot.ylabel('True positive rate (sensitivity)')"
   ]
  },
  {
   "cell_type": "markdown",
   "metadata": {},
   "source": [
    "## Take the square root of predicted probabilities (makes them all bigger, but preserve the order of probabilities)"
   ]
  },
  {
   "cell_type": "code",
   "execution_count": 139,
   "metadata": {},
   "outputs": [
    {
     "name": "stdout",
     "output_type": "stream",
     "text": [
      "Old predicted probabilities are  [0.018 0.111 0.011 0.094 0.01  0.041 0.792 0.    0.001 0.479]\n",
      "new predicted probabilities are  [0.134 0.333 0.103 0.306 0.099 0.203 0.89  0.014 0.024 0.692]\n"
     ]
    }
   ],
   "source": [
    "y_test_prob2=np.sqrt(y_test_prob1)\n",
    "\n",
    "##Old predicted probabilities\n",
    "print(\"Old predicted probabilities are \",y_test_prob1[:10].round(3))\n",
    "## New square root predicted probabilities\n",
    "print(\"new predicted probabilities are \",y_test_prob2[:10].round(3))"
   ]
  },
  {
   "cell_type": "code",
   "execution_count": 140,
   "metadata": {},
   "outputs": [
    {
     "data": {
      "text/plain": [
       "(array([30., 10.,  4.,  5.,  6.,  5.,  6.,  2.,  9., 16.]),\n",
       " array([3.68439673e-05, 9.99740489e-02, 1.99911254e-01, 2.99848459e-01,\n",
       "        3.99785664e-01, 4.99722869e-01, 5.99660074e-01, 6.99597279e-01,\n",
       "        7.99534484e-01, 8.99471689e-01, 9.99408894e-01]),\n",
       " <a list of 10 Patch objects>)"
      ]
     },
     "execution_count": 140,
     "metadata": {},
     "output_type": "execute_result"
    },
    {
     "data": {
      "image/png": "[encoded data removed]",
      "text/plain": [
       "<Figure size 864x576 with 2 Axes>"
      ]
     },
     "metadata": {
      "needs_background": "light"
     },
     "output_type": "display_data"
    }
   ],
   "source": [
    "# you can see the histogram changed\n",
    "figure = sns.mpl.pyplot.figure(figsize=(12,8))\n",
    "figure.add_subplot(121)\n",
    "sns.mpl.pyplot.title(\"Original histogram of predicted probabilities\")\n",
    "sns.mpl.pyplot.hist(y_test_prob1)\n",
    "figure.add_subplot(122)\n",
    "sns.mpl.pyplot.title(\"Histogram of square root predicted probabilities\")\n",
    "sns.mpl.pyplot.hist(y_test_prob2)"
   ]
  },
  {
   "cell_type": "code",
   "execution_count": 142,
   "metadata": {},
   "outputs": [
    {
     "name": "stdout",
     "output_type": "stream",
     "text": [
      "Old AUC:  0.936026936026936\n",
      "New AUC:  0.936026936026936\n"
     ]
    }
   ],
   "source": [
    "# the AUC did not change\n",
    "print(\"Old AUC: \",metrics.roc_auc_score(y_test, y_test_prob1))\n",
    "print(\"New AUC: \",metrics.roc_auc_score(y_test, y_test_prob2))"
   ]
  },
  {
   "cell_type": "code",
   "execution_count": 143,
   "metadata": {},
   "outputs": [
    {
     "data": {
      "text/plain": [
       "[<matplotlib.lines.Line2D at 0x14bc0ad0>]"
      ]
     },
     "execution_count": 143,
     "metadata": {},
     "output_type": "execute_result"
    },
    {
     "data": {
      "image/png": "[encoded data removed]",
      "text/plain": [
       "<Figure size 864x576 with 2 Axes>"
      ]
     },
     "metadata": {
      "needs_background": "light"
     },
     "output_type": "display_data"
    }
   ],
   "source": [
    "\n",
    "# the ROC curve did not change\n",
    "fpr2, tpr2, thresholds2 = metrics.roc_curve(y_test, y_test_prob2)\n",
    "figure = sns.mpl.pyplot.figure(figsize=(12,8))\n",
    "figure.add_subplot(121)\n",
    "sns.mpl.pyplot.plot(fpr, tpr)\n",
    "sns.mpl.pyplot.title(\"Original ROC Curve\")\n",
    "figure.add_subplot(122)\n",
    "sns.mpl.pyplot.title(\"ROC Curve of sqrt probabilities\")\n",
    "sns.mpl.pyplot.plot(fpr2, tpr2)"
   ]
  },
  {
   "cell_type": "markdown",
   "metadata": {},
   "source": [
    "###Make small predicted probabilities smaller, and make big predicted probabilities bigger"
   ]
  },
  {
   "cell_type": "code",
   "execution_count": 144,
   "metadata": {},
   "outputs": [
    {
     "data": {
      "text/plain": [
       "array([3.26158120e-04, 1.23391965e-02, 1.11883745e-04, 8.81021767e-03,\n",
       "       9.55300652e-05, 1.70719347e-03, 8.90123570e-01, 3.81405067e-08,\n",
       "       3.57261555e-07, 2.29312919e-01])"
      ]
     },
     "execution_count": 144,
     "metadata": {},
     "output_type": "execute_result"
    }
   ],
   "source": [
    "y_test_prob3 = np.where(y_test_prob1 > 0.5, np.sqrt(y_test_prob1), y_test_prob1**2)\n",
    "# you can see these are different from y_pred_prob1 and y_pred_prob2\n",
    "y_test_prob3[:10]"
   ]
  },
  {
   "cell_type": "code",
   "execution_count": 145,
   "metadata": {},
   "outputs": [
    {
     "data": {
      "text/plain": [
       "(array([59.,  3.,  4.,  0.,  0.,  0.,  0.,  2.,  9., 16.]),\n",
       " array([1.84274633e-18, 9.99408894e-02, 1.99881779e-01, 2.99822668e-01,\n",
       "        3.99763557e-01, 4.99704447e-01, 5.99645336e-01, 6.99586226e-01,\n",
       "        7.99527115e-01, 8.99468004e-01, 9.99408894e-01]),\n",
       " <a list of 10 Patch objects>)"
      ]
     },
     "execution_count": 145,
     "metadata": {},
     "output_type": "execute_result"
    },
    {
     "data": {
      "image/png": "[encoded data removed]",
      "text/plain": [
       "<Figure size 864x576 with 3 Axes>"
      ]
     },
     "metadata": {
      "needs_background": "light"
     },
     "output_type": "display_data"
    }
   ],
   "source": [
    "# the histogram changed\n",
    "# you can see the histogram changed\n",
    "figure = sns.mpl.pyplot.figure(figsize=(12,8))\n",
    "figure.add_subplot(131)\n",
    "sns.mpl.pyplot.title(\"Original histogram\")\n",
    "sns.mpl.pyplot.hist(y_test_prob1)\n",
    "figure.add_subplot(132)\n",
    "sns.mpl.pyplot.title(\"Histogram of square root pred probs\")\n",
    "sns.mpl.pyplot.hist(y_test_prob2)\n",
    "figure.add_subplot(133)\n",
    "sns.mpl.pyplot.title(\"Histogram of newest pred probs\")\n",
    "sns.mpl.pyplot.hist(y_test_prob3)"
   ]
  },
  {
   "cell_type": "code",
   "execution_count": 146,
   "metadata": {},
   "outputs": [
    {
     "name": "stdout",
     "output_type": "stream",
     "text": [
      "Original AUC:  0.936026936026936\n",
      "Square root probs AUC:  0.936026936026936\n",
      "Newest transformed AUC:  0.936026936026936\n"
     ]
    }
   ],
   "source": [
    "# the AUC did not change\n",
    "print(\"Original AUC: \",metrics.roc_auc_score(y_test, y_test_prob1))\n",
    "print(\"Square root probs AUC: \",metrics.roc_auc_score(y_test, y_test_prob2))\n",
    "print(\"Newest transformed AUC: \",metrics.roc_auc_score(y_test, y_test_prob3))"
   ]
  },
  {
   "cell_type": "code",
   "execution_count": 147,
   "metadata": {},
   "outputs": [
    {
     "data": {
      "text/plain": [
       "[<matplotlib.lines.Line2D at 0x15ed7310>]"
      ]
     },
     "execution_count": 147,
     "metadata": {},
     "output_type": "execute_result"
    },
    {
     "data": {
      "image/png": "[encoded data removed]",
      "text/plain": [
       "<Figure size 864x576 with 3 Axes>"
      ]
     },
     "metadata": {
      "needs_background": "light"
     },
     "output_type": "display_data"
    }
   ],
   "source": [
    "fpr3, tpr3, thresholds2 = metrics.roc_curve(y_test, y_test_prob3)\n",
    "# the ROC curve did not change\n",
    "figure = sns.mpl.pyplot.figure(figsize=(12,8))\n",
    "figure.add_subplot(131)\n",
    "sns.mpl.pyplot.plot(fpr, tpr)\n",
    "sns.mpl.pyplot.title(\"Original ROC Curve\")\n",
    "figure.add_subplot(132)\n",
    "sns.mpl.pyplot.title(\"ROC Curve of sqrt probs\")\n",
    "sns.mpl.pyplot.plot(fpr2, tpr2)\n",
    "figure.add_subplot(133)\n",
    "sns.mpl.pyplot.title(\"ROC Curve of newest transformed probs\")\n",
    "sns.mpl.pyplot.plot(fpr3, tpr3)"
   ]
  },
  {
   "cell_type": "code",
   "execution_count": null,
   "metadata": {},
   "outputs": [],
   "source": []
  }
 ],
 "metadata": {
  "kernelspec": {
   "display_name": "Python 3",
   "language": "python",
   "name": "python3"
  },
  "language_info": {
   "codemirror_mode": {
    "name": "ipython",
    "version": 3
   },
   "file_extension": ".py",
   "mimetype": "text/x-python",
   "name": "python",
   "nbconvert_exporter": "python",
   "pygments_lexer": "ipython3",
   "version": "3.7.4"
  }
 },
 "nbformat": 4,
 "nbformat_minor": 2
}
