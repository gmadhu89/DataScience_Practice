{
 "cells": [
  {
   "cell_type": "code",
   "execution_count": 2,
   "metadata": {},
   "outputs": [],
   "source": [
    "import numpy as np"
   ]
  },
  {
   "cell_type": "code",
   "execution_count": 27,
   "metadata": {},
   "outputs": [],
   "source": [
    "# np.ScalarType  -- Types of scalars in Numpy"
   ]
  },
  {
   "cell_type": "code",
   "execution_count": 28,
   "metadata": {},
   "outputs": [
    {
     "name": "stdout",
     "output_type": "stream",
     "text": [
      "my_array is  [1 2 3] <class 'numpy.ndarray'>\n",
      "[1.  2.5 4. ] <class 'numpy.ndarray'>\n",
      "Added array is \t\t [3 4 5]\n",
      "Subtracted array is \t\t [0 1 2]\n",
      "Multiplied array is \t\t [ 5 10 15]\n",
      "Divided array is \t\t [0.5 1.  1.5]\n",
      "Mixed element type <class 'numpy.ndarray'>\n",
      "Mixed element type \t\t <class 'numpy.str_'>\n",
      "Shape of array is \t\t (3,)\n",
      "Original vectors are \t [ 1  4 10] \t [3.5 6.  9. ]\n",
      "Added vectors are \t [ 4.5 10.  19. ]\n",
      "Subtracted vectors are \t [-2.5 -2.   1. ]\n",
      "Multipied vectors are \t [ 3.5 24.  90. ]\n",
      "Divided vectors are \t [0.28571429 0.66666667 1.11111111]\n",
      "Greater than 3 array is \t\t [ 4 10]\n"
     ]
    }
   ],
   "source": [
    "# Vector - Array (list)\n",
    "my_array = np.array([1,2,3])\n",
    "print(\"my_array is \",my_array,type(my_array))\n",
    "\n",
    "my_list = [1,2.5,4]\n",
    "my_array2 = np.array(my_list)\n",
    "print(my_array2,type(my_array2))\n",
    "\n",
    "my_add = my_array + 2\n",
    "print(\"Added array is \\t\\t\", my_add)\n",
    "\n",
    "my_sub = my_array -1\n",
    "print(\"Subtracted array is \\t\\t\",my_sub)\n",
    "\n",
    "my_mul = my_array * 5\n",
    "print(\"Multiplied array is \\t\\t\",my_mul)\n",
    "\n",
    "my_div = my_array / 2\n",
    "print(\"Divided array is \\t\\t\",my_div)\n",
    "\n",
    "## Array should have all elements of the same datatype\n",
    "my_datatyp = np.array([\"hello\",12,5.0])\n",
    "print(\"Mixed element type\", type(my_datatyp))\n",
    "print(\"Mixed element type \\t\\t\",type(my_datatyp[1]))\n",
    "\n",
    "## Shape of array gives length of array\n",
    "print(\"Shape of array is \\t\\t\", my_datatyp.shape)\n",
    "\n",
    "## Operations on 2 vectors\n",
    "## Vectors should have the same shape\n",
    "vector1 = np.array([1,4,10])\n",
    "vector2 = np.array([3.5,6,9])\n",
    "\n",
    "print(\"Original vectors are \\t\",vector1,\"\\t\",vector2)\n",
    "print(\"Added vectors are \\t\",vector1+vector2)\n",
    "print(\"Subtracted vectors are \\t\",vector1 - vector2)\n",
    "print(\"Multipied vectors are \\t\",vector1 * vector2)\n",
    "print(\"Divided vectors are \\t\",vector1 / vector2)\n",
    "\n",
    "## Comparison of vectors\n",
    "vector1 > 3\n",
    "greater_than_3_vector = vector1[vector1 > 3]\n",
    "print(\"Greater than 3 array is \\t\\t\",greater_than_3_vector)"
   ]
  },
  {
   "cell_type": "markdown",
   "metadata": {},
   "source": [
    "# PRACTICE PROBLEMS\n",
    "\n",
    "create a NumPy array called heights = [6.5,7.3,5.1,4.9]\n",
    "multiply all of the heights by 4 and store that into a new variable called huge_people\n",
    "create a new array basketballers with only those entries in heights that are > 6\n",
    "create another array little_people with only those entries in heights that are < 5"
   ]
  },
  {
   "cell_type": "code",
   "execution_count": 29,
   "metadata": {},
   "outputs": [
    {
     "name": "stdout",
     "output_type": "stream",
     "text": [
      "Array heigths is \t\t [6.5 7.3 5.1 4.9]\n",
      "Multipled array huge_people is \t\t [26.  29.2 20.4 19.6]\n",
      "Basketballer array is \t\t [6.5 7.3]\n",
      "Little people array is \t\t [4.9]\n"
     ]
    }
   ],
   "source": [
    "heights = np.array([6.5,7.3,5.1,4.9])\n",
    "\n",
    "print(\"Array heigths is \\t\\t\",heights)\n",
    "\n",
    "huge_people = heights * 4\n",
    "print(\"Multipled array huge_people is \\t\\t\",huge_people)\n",
    "\n",
    "basketballers = heights[heights > 6]\n",
    "print(\"Basketballer array is \\t\\t\",basketballers)\n",
    "\n",
    "little_people = heights[heights < 5]\n",
    "print(\"Little people array is \\t\\t\",little_people)"
   ]
  },
  {
   "cell_type": "code",
   "execution_count": 30,
   "metadata": {},
   "outputs": [],
   "source": [
    "## Matrices\n",
    "\n",
    "## Defining\n",
    "## Shape of Matrix\n",
    "## Matrices slicing\n",
    "## Scalar operations\n",
    "## 2 Matrices operations"
   ]
  },
  {
   "cell_type": "code",
   "execution_count": 3,
   "metadata": {},
   "outputs": [
    {
     "name": "stdout",
     "output_type": "stream",
     "text": [
      "Shape of M1 is \t\t (2, 3)\n",
      "Shape of V1 is \t\t (3,)\n"
     ]
    }
   ],
   "source": [
    "M1 = np.array([[1,2,4],[1,3,4]])\n",
    "V1=np.array([10,12,13])\n",
    "\n",
    "print(\"Shape of M1 is \\t\\t\",M1.shape)\n",
    "print(\"Shape of V1 is \\t\\t\",V1.shape)\n",
    "\n",
    "#Mul_Mat = M1.dot(V1)\n",
    "#print(\"Multiplied Matrix \\t\\t\",Mul_Mat, Mul_Mat.shape)\n",
    "\n",
    "#Mul_Mat2 = V1.dot(M1)\n",
    "#print(\"Multiplied Matrix \\t\\t\",Mul_Mat2, Mul_Mat2.shape)"
   ]
  },
  {
   "cell_type": "code",
   "execution_count": 4,
   "metadata": {},
   "outputs": [],
   "source": [
    "Mat = np.array([[1,2],[3,4]])"
   ]
  },
  {
   "cell_type": "code",
   "execution_count": 13,
   "metadata": {},
   "outputs": [
    {
     "name": "stdout",
     "output_type": "stream",
     "text": [
      "Shape of Matrix is  (2, 2)\n",
      "[1 2] <class 'numpy.ndarray'>\n",
      "[3 4]\n"
     ]
    }
   ],
   "source": [
    "print(\"Shape of Matrix is \",Mat.shape)\n",
    "print(Mat[0,:],type(Mat[0,:]))\n",
    "print(Mat[1,:])"
   ]
  },
  {
   "cell_type": "code",
   "execution_count": 17,
   "metadata": {},
   "outputs": [
    {
     "name": "stdout",
     "output_type": "stream",
     "text": [
      "Addition of scalar 5 \n",
      " [[6 7]\n",
      " [8 9]]\n",
      "Subtraction of scalar 5\n",
      " [[-4 -3]\n",
      " [-2 -1]]\n",
      "Multiplication of scalar 5\n",
      " [[ 5 10]\n",
      " [15 20]]\n",
      "Division of scalar 5\n",
      " [[0.2 0.4]\n",
      " [0.6 0.8]]\n"
     ]
    }
   ],
   "source": [
    "print(\"Addition of scalar 5 \\n\", Mat + 5)\n",
    "print(\"Subtraction of scalar 5\\n\", Mat - 5)\n",
    "print(\"Multiplication of scalar 5\\n\", Mat * 5)\n",
    "print(\"Division of scalar 5\\n\", Mat / 5)"
   ]
  },
  {
   "cell_type": "code",
   "execution_count": 31,
   "metadata": {},
   "outputs": [],
   "source": [
    "my_first_matrix = np.array([[20,12],[30,1]])\n",
    "my_second_matrix = np.array([[1,3],[6,7]])\n",
    "my_third_matrix = np.array([[1,2,4],[1,3,5]])"
   ]
  },
  {
   "cell_type": "code",
   "execution_count": 35,
   "metadata": {},
   "outputs": [
    {
     "name": "stdout",
     "output_type": "stream",
     "text": [
      "First Matrix is \n",
      " [[20 12]\n",
      " [30  1]]\n",
      "Second Matrix is \n",
      " [[1 3]\n",
      " [6 7]]\n",
      "Are my first 2 matrices of same shape ?  True\n",
      "Addition of first two matrices : \n",
      " [[21 15]\n",
      " [36  8]]\n",
      "Subtraction of first two matrices : \n",
      " [[19  9]\n",
      " [24 -6]]\n",
      "Are my first and 3rd matrices of the same shape :\n",
      " False\n",
      "First Matrix dot Second Matrix \n",
      " [[ 92 144]\n",
      " [ 36  97]]\n",
      "Second Matrix dot First Matrix \n",
      " [[110  15]\n",
      " [330  79]]\n",
      "First Matrix dor third Matrix \n",
      " [[ 32  76 140]\n",
      " [ 31  63 125]]\n"
     ]
    },
    {
     "ename": "ValueError",
     "evalue": "shapes (2,3) and (2,2) not aligned: 3 (dim 1) != 2 (dim 0)",
     "output_type": "error",
     "traceback": [
      "\u001b[1;31m---------------------------------------------------------------------------\u001b[0m",
      "\u001b[1;31mValueError\u001b[0m                                Traceback (most recent call last)",
      "\u001b[1;32m<ipython-input-35-10ec4bb0c437>\u001b[0m in \u001b[0;36m<module>\u001b[1;34m\u001b[0m\n\u001b[0;32m     16\u001b[0m \u001b[0mprint\u001b[0m\u001b[1;33m(\u001b[0m\u001b[1;34m\"First Matrix dor third Matrix \\n\"\u001b[0m\u001b[1;33m,\u001b[0m\u001b[0mmy_first_matrix\u001b[0m\u001b[1;33m.\u001b[0m\u001b[0mdot\u001b[0m\u001b[1;33m(\u001b[0m\u001b[0mmy_third_matrix\u001b[0m\u001b[1;33m)\u001b[0m\u001b[1;33m)\u001b[0m\u001b[1;33m\u001b[0m\u001b[1;33m\u001b[0m\u001b[0m\n\u001b[0;32m     17\u001b[0m \u001b[1;33m\u001b[0m\u001b[0m\n\u001b[1;32m---> 18\u001b[1;33m \u001b[0mprint\u001b[0m\u001b[1;33m(\u001b[0m\u001b[0mmy_third_matrix\u001b[0m\u001b[1;33m.\u001b[0m\u001b[0mdot\u001b[0m\u001b[1;33m(\u001b[0m\u001b[0mmy_first_matrix\u001b[0m\u001b[1;33m)\u001b[0m\u001b[1;33m)\u001b[0m\u001b[1;33m\u001b[0m\u001b[1;33m\u001b[0m\u001b[0m\n\u001b[0m",
      "\u001b[1;31mValueError\u001b[0m: shapes (2,3) and (2,2) not aligned: 3 (dim 1) != 2 (dim 0)"
     ]
    }
   ],
   "source": [
    "print(\"First Matrix is \\n\",my_first_matrix)\n",
    "print(\"Second Matrix is \\n\",my_second_matrix)\n",
    "\n",
    "print(\"Are my first 2 matrices of same shape ? \",my_first_matrix.shape == my_second_matrix.shape)\n",
    "\n",
    "print(\"Addition of first two matrices : \\n\",my_first_matrix + my_second_matrix)\n",
    "print(\"Subtraction of first two matrices : \\n\",my_first_matrix - my_second_matrix)\n",
    "\n",
    "print(\"Are my first and 3rd matrices of the same shape :\\n\",my_first_matrix.shape == my_third_matrix.shape)\n",
    "## Cannot add matrices of different shape\n",
    "##print(\"Trying to add first and 3rd matrix : \",my_first_matrix + my_third_matrix)\n",
    "\n",
    "print(\"First Matrix dot Second Matrix \\n\",my_first_matrix.dot(my_second_matrix))\n",
    "print(\"Second Matrix dot First Matrix \\n\",my_second_matrix.dot(my_first_matrix))\n",
    "\n",
    "print(\"First Matrix dor third Matrix \\n\",my_first_matrix.dot(my_third_matrix))\n",
    "\n",
    "# print(my_third_matrix.dot(my_first_matrix)) - cannot do dot product of this shape"
   ]
  },
  {
   "cell_type": "code",
   "execution_count": 38,
   "metadata": {},
   "outputs": [
    {
     "name": "stdout",
     "output_type": "stream",
     "text": [
      "[[3. 0. 0.]\n",
      " [0. 3. 0.]\n",
      " [0. 0. 3.]]\n"
     ]
    }
   ],
   "source": [
    "print(np.eye(3)*3)"
   ]
  },
  {
   "cell_type": "code",
   "execution_count": 40,
   "metadata": {},
   "outputs": [
    {
     "name": "stdout",
     "output_type": "stream",
     "text": [
      "Inverse of my first matrix is \n",
      " [[-0.00294118  0.03529412]\n",
      " [ 0.08823529 -0.05882353]]\n"
     ]
    }
   ],
   "source": [
    "## Inverse of a  matrix\n",
    "\n",
    "print(\"Inverse of my first matrix is \\n\",np.linalg.inv(my_first_matrix))"
   ]
  },
  {
   "cell_type": "code",
   "execution_count": 41,
   "metadata": {},
   "outputs": [
    {
     "name": "stdout",
     "output_type": "stream",
     "text": [
      "Division result is \n",
      "  [[ -6.18181818   4.36363636]\n",
      " [-18.54545455   8.09090909]]\n"
     ]
    }
   ],
   "source": [
    "## Matrix Division using numpy linalg\n",
    "\n",
    "# my_first_matrix/my_second_matrix  == my_first_matrix.dot(np.linalg.inv(my_second_matrix))\n",
    "\n",
    "my_second_inverse = np.linalg.inv(my_second_matrix)\n",
    "\n",
    "div_matrix = my_first_matrix.dot(my_second_inverse)\n",
    "print(\"Division result is \\n \",div_matrix)"
   ]
  },
  {
   "cell_type": "code",
   "execution_count": 47,
   "metadata": {},
   "outputs": [
    {
     "name": "stdout",
     "output_type": "stream",
     "text": [
      "Matrix A is :\n",
      " [[10  2]\n",
      " [-1  5]\n",
      " [ 3  3]]\n",
      "Matrix B is :\n",
      " [ 2  3 31]\n",
      "Transpose of matrix A is :\n",
      " [[10 -1  3]\n",
      " [ 2  5  3]] (2, 3)\n",
      "Transpose of matrix B is :\n",
      " [ 2  3 31] (3,)\n",
      "Multiply A Transpose and B transpose will work :\n",
      " [110 112] (2,)\n"
     ]
    }
   ],
   "source": [
    "## transpose of a matrix\n",
    "\n",
    "A = np.array([[10,2],[-1,5],[3,3]])\n",
    "B = np.array([2,3,31])\n",
    "\n",
    "print(\"Matrix A is :\\n\", A)\n",
    "print(\"Matrix B is :\\n\", B)\n",
    "\n",
    "print(\"Transpose of matrix A is :\\n\",A.T, A.T.shape)\n",
    "print(\"Transpose of matrix B is :\\n\",B.T, B.T.shape)\n",
    "\n",
    "#print(\"Multiply A and B will give error :\\n\", A.dot(B))\n",
    "print(\"Multiply A Transpose and B transpose will work :\\n\", A.T.dot(B.T), A.T.dot(B.T).shape)"
   ]
  },
  {
   "cell_type": "code",
   "execution_count": 48,
   "metadata": {},
   "outputs": [],
   "source": [
    "## Practice Problem"
   ]
  },
  {
   "cell_type": "code",
   "execution_count": 62,
   "metadata": {},
   "outputs": [
    {
     "name": "stdout",
     "output_type": "stream",
     "text": [
      "Matrix C is :\n",
      " [[12  3  4]\n",
      " [ 1 -1 10]\n",
      " [ 2  5  2]] (3, 3)\n",
      "Vector D is :\n",
      " [ 3 -2 10] (3,)\n",
      "Inverse of C is \n",
      " [[ 0.09594096 -0.02583026 -0.06273063]\n",
      " [-0.03321033 -0.0295203   0.21402214]\n",
      " [-0.01291513  0.099631    0.02767528]]\n",
      "[ 70 105  16]\n",
      "[54 61 12]\n",
      "[ 70 105  16]\n"
     ]
    }
   ],
   "source": [
    "C = np.array([[12,3,4],[1,-1,10],[2,5,2]])\n",
    "D = np.array([3,-2,10])\n",
    "\n",
    "print(\"Matrix C is :\\n\",C, C.shape)\n",
    "print(\"Vector D is :\\n\",D, D.shape)\n",
    "\n",
    "print(\"Inverse of C is \\n\",np.linalg.inv(C))\n",
    "\n",
    "#print(C.dot(D))\n",
    "\n",
    "#print(C.T.dot(D.T))\n",
    "\n",
    "#print(D*C)\n",
    "print(np.dot(C,D.T))\n",
    "print(np.dot(D,C))\n",
    "print(np.dot(C,D))"
   ]
  },
  {
   "cell_type": "code",
   "execution_count": null,
   "metadata": {},
   "outputs": [],
   "source": []
  }
 ],
 "metadata": {
  "kernelspec": {
   "display_name": "Python 3",
   "language": "python",
   "name": "python3"
  },
  "language_info": {
   "codemirror_mode": {
    "name": "ipython",
    "version": 3
   },
   "file_extension": ".py",
   "mimetype": "text/x-python",
   "name": "python",
   "nbconvert_exporter": "python",
   "pygments_lexer": "ipython3",
   "version": "3.7.3"
  }
 },
 "nbformat": 4,
 "nbformat_minor": 2
}
