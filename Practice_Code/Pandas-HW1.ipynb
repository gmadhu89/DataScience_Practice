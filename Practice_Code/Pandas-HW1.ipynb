{
 "cells": [
  {
   "cell_type": "markdown",
   "metadata": {},
   "source": [
    "Reading and analyzing New York Taxi data set "
   ]
  },
  {
   "cell_type": "code",
   "execution_count": 1,
   "metadata": {},
   "outputs": [],
   "source": [
    "import numpy as np\n",
    "import pandas as pd"
   ]
  },
  {
   "cell_type": "code",
   "execution_count": 31,
   "metadata": {},
   "outputs": [
    {
     "data": {
      "text/plain": [
       "medallion                  object\n",
       "hack_license               object\n",
       "vendor_id                  object\n",
       "pickup_datetime    datetime64[ns]\n",
       "payment_type               object\n",
       "fare_amount               float64\n",
       "surcharge                 float64\n",
       "mta_tax                   float64\n",
       "tip_amount                float64\n",
       "tolls_amount              float64\n",
       "total_amount              float64\n",
       "dtype: object"
      ]
     },
     "execution_count": 31,
     "metadata": {},
     "output_type": "execute_result"
    }
   ],
   "source": [
    "taxidata = pd.read_csv('C:/Users/Madhumita.Ganesan/Desktop/DataScience/data/nyctaxi/nycTaxiData/trip_fare_500k.csv',engine='python')\n",
    "\n",
    "\n",
    "taxidata.pickup_datetime = pd.to_datetime(taxidata.pickup_datetime,format=\"%Y-%m-%d %H:%M:%S\")\n",
    "taxidata.dtypes"
   ]
  },
  {
   "cell_type": "code",
   "execution_count": 8,
   "metadata": {},
   "outputs": [
    {
     "data": {
      "text/html": [
       "<div>\n",
       "<style scoped>\n",
       "    .dataframe tbody tr th:only-of-type {\n",
       "        vertical-align: middle;\n",
       "    }\n",
       "\n",
       "    .dataframe tbody tr th {\n",
       "        vertical-align: top;\n",
       "    }\n",
       "\n",
       "    .dataframe thead th {\n",
       "        text-align: right;\n",
       "    }\n",
       "</style>\n",
       "<table border=\"1\" class=\"dataframe\">\n",
       "  <thead>\n",
       "    <tr style=\"text-align: right;\">\n",
       "      <th></th>\n",
       "      <th>medallion</th>\n",
       "      <th>hack_license</th>\n",
       "      <th>vendor_id</th>\n",
       "      <th>pickup_datetime</th>\n",
       "      <th>payment_type</th>\n",
       "      <th>fare_amount</th>\n",
       "      <th>surcharge</th>\n",
       "      <th>mta_tax</th>\n",
       "      <th>tip_amount</th>\n",
       "      <th>tolls_amount</th>\n",
       "      <th>total_amount</th>\n",
       "    </tr>\n",
       "  </thead>\n",
       "  <tbody>\n",
       "    <tr>\n",
       "      <th>0</th>\n",
       "      <td>89D227B655E5C82AECF13C3F540D4CF4</td>\n",
       "      <td>BA96DE419E711691B9445D6A6307C170</td>\n",
       "      <td>CMT</td>\n",
       "      <td>2013-01-01 15:11:48</td>\n",
       "      <td>CSH</td>\n",
       "      <td>6.5</td>\n",
       "      <td>0.0</td>\n",
       "      <td>0.5</td>\n",
       "      <td>0.0</td>\n",
       "      <td>0.0</td>\n",
       "      <td>7.0</td>\n",
       "    </tr>\n",
       "    <tr>\n",
       "      <th>1</th>\n",
       "      <td>0BD7C8F5BA12B88E0B67BED28BEA73D8</td>\n",
       "      <td>9FD8F69F0804BDB5549F40E9DA1BE472</td>\n",
       "      <td>CMT</td>\n",
       "      <td>2013-01-06 00:18:35</td>\n",
       "      <td>CSH</td>\n",
       "      <td>6.0</td>\n",
       "      <td>0.5</td>\n",
       "      <td>0.5</td>\n",
       "      <td>0.0</td>\n",
       "      <td>0.0</td>\n",
       "      <td>7.0</td>\n",
       "    </tr>\n",
       "  </tbody>\n",
       "</table>\n",
       "</div>"
      ],
      "text/plain": [
       "                          medallion                      hack_license  \\\n",
       "0  89D227B655E5C82AECF13C3F540D4CF4  BA96DE419E711691B9445D6A6307C170   \n",
       "1  0BD7C8F5BA12B88E0B67BED28BEA73D8  9FD8F69F0804BDB5549F40E9DA1BE472   \n",
       "\n",
       "  vendor_id      pickup_datetime payment_type  fare_amount  surcharge  \\\n",
       "0       CMT  2013-01-01 15:11:48          CSH          6.5        0.0   \n",
       "1       CMT  2013-01-06 00:18:35          CSH          6.0        0.5   \n",
       "\n",
       "   mta_tax  tip_amount  tolls_amount  total_amount  \n",
       "0      0.5         0.0           0.0           7.0  \n",
       "1      0.5         0.0           0.0           7.0  "
      ]
     },
     "execution_count": 8,
     "metadata": {},
     "output_type": "execute_result"
    }
   ],
   "source": [
    "taxidata.head(2)\n",
    "#type(taxidata)"
   ]
  },
  {
   "cell_type": "code",
   "execution_count": 13,
   "metadata": {},
   "outputs": [
    {
     "name": "stdout",
     "output_type": "stream",
     "text": [
      "Most expensive trip is : 460.5 \n",
      " Least expensive trip is :  2.5\n"
     ]
    },
    {
     "data": {
      "text/plain": [
       "numpy.float64"
      ]
     },
     "execution_count": 13,
     "metadata": {},
     "output_type": "execute_result"
    }
   ],
   "source": [
    "##Most Expensive / Least Expensive trip taken\n",
    "\n",
    "most_expensive_data = taxidata.total_amount.max()\n",
    "least_expensive_data = taxidata.total_amount.min()\n",
    "\n",
    "print(\"Most expensive trip is :\", most_expensive_data, \"\\n Least expensive trip is : \", least_expensive_data)\n",
    "type(most_expensive_data)"
   ]
  },
  {
   "cell_type": "code",
   "execution_count": 33,
   "metadata": {},
   "outputs": [
    {
     "name": "stdout",
     "output_type": "stream",
     "text": [
      "0.6708753071402004\n"
     ]
    }
   ],
   "source": [
    "#Does the overall total_amount paid per ride correlate with tip_amount per ride?\n",
    "totripcorr = taxidata.total_amount.corr(taxidata.tip_amount)\n",
    "print(totripcorr)"
   ]
  },
  {
   "cell_type": "code",
   "execution_count": 39,
   "metadata": {},
   "outputs": [
    {
     "name": "stdout",
     "output_type": "stream",
     "text": [
      "0.6703435782941249\n"
     ]
    }
   ],
   "source": [
    "##Does it correlate when you remove all rides with unknown payment_type?\n",
    "taxidata_filtered=taxidata[taxidata.payment_type!='UNK']\n",
    "\n",
    "tripcorr = taxidata_filtered.total_amount.corr(taxidata_filtered.tip_amount)\n",
    "print(tripcorr)"
   ]
  },
  {
   "cell_type": "markdown",
   "metadata": {},
   "source": [
    "##Calculate the average cost of a trip in this dataset given the following conditions:\n",
    "1) Across the whole dataset\n",
    "2) Across the whole dataset when the payment_type is known (not UNK)\n",
    "3) For each payment_type\n",
    "4) Which payment_type had the highest average cost?\n",
    "5) Which payment_type had the largest spread in how much people paid (largest standard deviation)?\n",
    "6) Which payment_type had the most generous people (had the highest average tip), including unknown payment types?\n",
    "7) What hour in the day were people most generous, on average, when they got into a cab?\n",
    "8) What hour of the day did people fluctuate the most in terms of tips? That is, do some hours lead to unpredictable tip amounts?"
   ]
  },
  {
   "cell_type": "code",
   "execution_count": 53,
   "metadata": {},
   "outputs": [
    {
     "name": "stdout",
     "output_type": "stream",
     "text": [
      "Average cost accross whole dataset :  14.170294440000001\n",
      "Average cost for dataset when payment type is not UNK :  14.16302480467147\n",
      "Average payment cost by payment type is :\n",
      "payment_type\n",
      "CRD    16.371267\n",
      "CSH    11.616747\n",
      "DIS     5.750000\n",
      "NOC     3.000000\n",
      "UNK    22.116674\n",
      "Name: total_amount, dtype: float64\n",
      "Payment type with highest average cost : \n",
      " payment_type\n",
      "UNK    22.116674\n",
      "Name: total_amount, dtype: float64\n",
      "Payment type with largest spread in cost is : \n",
      "\n",
      "payment_type\n",
      "UNK    21.049277\n",
      "Name: total_amount, dtype: float64\n"
     ]
    }
   ],
   "source": [
    "##Average cost across whole dataset\n",
    "avgcost = taxidata.total_amount.mean()\n",
    "print(\"Average cost accross whole dataset : \" ,avgcost)\n",
    "\n",
    "avgcost_notunk = taxidata_filtered.total_amount.mean()\n",
    "print(\"Average cost for dataset when payment type is not UNK : \",avgcost_notunk)\n",
    "\n",
    "##Average cost for each payment type\n",
    "taxigroup =taxidata.groupby('payment_type')\n",
    "avg_payment_cost = taxigroup.total_amount.mean()\n",
    "print(\"Average payment cost by payment type is :\")\n",
    "print(avg_payment_cost)\n",
    "##Payment type with highest average cost\n",
    "\n",
    "highest_avg_cost_ptype = avg_payment_cost.sort_values(ascending=False).head(1)\n",
    "print(\"Payment type with highest average cost : \\n\",highest_avg_cost_ptype)\n",
    "\n",
    "##Payment type wit larget spread in cost\n",
    "taxi_std = taxigroup.total_amount.std()\n",
    "print(\"Payment type with largest spread in cost is : \\n\")\n",
    "print(taxi_std.sort_values(ascending=False).head(1))"
   ]
  },
  {
   "cell_type": "code",
   "execution_count": 62,
   "metadata": {},
   "outputs": [
    {
     "name": "stdout",
     "output_type": "stream",
     "text": [
      "Payment type with most generous tip: \n",
      " payment_type\n",
      "UNK    3.430088\n",
      "Name: tip_amount, dtype: float64\n"
     ]
    }
   ],
   "source": [
    "##Payment type with most generous tip\n",
    "tip_avg = taxigroup.tip_amount.mean().sort_values(ascending=False)\n",
    "print(\"Payment type with most generous tip: \\n\",tip_avg.head(1))"
   ]
  },
  {
   "cell_type": "code",
   "execution_count": 90,
   "metadata": {},
   "outputs": [
    {
     "name": "stdout",
     "output_type": "stream",
     "text": [
      "hour\n",
      "5    1.942813\n",
      "Name: tip_amount, dtype: float64\n"
     ]
    }
   ],
   "source": [
    "## What hour in the day were most people generous, on average,when they got into the cab\n",
    "\n",
    "taxidata['hour'] = taxidata.pickup_datetime.dt.hour\n",
    "hourgroup = taxidata.groupby('hour')\n",
    "avgtip_amount = hourgroup.tip_amount.mean().sort_values(ascending=False)\n",
    "#avg_tip_list=list(avgtip_amount)\n",
    "print(avgtip_amount.head(1))"
   ]
  },
  {
   "cell_type": "code",
   "execution_count": 93,
   "metadata": {},
   "outputs": [
    {
     "name": "stdout",
     "output_type": "stream",
     "text": [
      "hour\n",
      "5     3.275576\n",
      "4     2.659419\n",
      "0     2.507986\n",
      "16    2.446023\n",
      "6     2.395520\n",
      "17    2.370470\n",
      "14    2.370127\n",
      "15    2.363344\n",
      "1     2.319315\n",
      "23    2.286110\n",
      "21    2.220345\n",
      "19    2.122856\n",
      "3     2.085183\n",
      "13    2.082766\n",
      "7     2.066681\n",
      "22    2.037812\n",
      "9     1.988527\n",
      "12    1.954182\n",
      "20    1.950661\n",
      "10    1.913502\n",
      "8     1.908732\n",
      "11    1.894122\n",
      "18    1.886830\n",
      "2     1.869682\n",
      "Name: tip_amount, dtype: float64\n"
     ]
    }
   ],
   "source": [
    "## What hour in the day did people fluctuate most on tips\n",
    "hourgroup = taxidata.groupby('hour')\n",
    "std_tipamt = hourgroup.tip_amount.std().sort_values(ascending=False)\n",
    "print(std_tipamt)"
   ]
  },
  {
   "cell_type": "code",
   "execution_count": 94,
   "metadata": {},
   "outputs": [
    {
     "data": {
      "text/plain": [
       "Index(['medallion', 'hack_license', 'vendor_id', 'pickup_datetime',\n",
       "       'payment_type', 'fare_amount', 'surcharge', 'mta_tax', 'tip_amount',\n",
       "       'tolls_amount', 'total_amount', 'hour'],\n",
       "      dtype='object')"
      ]
     },
     "execution_count": 94,
     "metadata": {},
     "output_type": "execute_result"
    }
   ],
   "source": [
    "#Which person (hack_license) made the most money:\n",
    "#1) In total\n",
    "#2) On a per-trip basis, given that they took at least 20 trips\n",
    "taxidata.columns"
   ]
  },
  {
   "cell_type": "code",
   "execution_count": 104,
   "metadata": {},
   "outputs": [
    {
     "name": "stdout",
     "output_type": "stream",
     "text": [
      "Person who made max money in total \n",
      " hack_license\n",
      "CFCD208495D565EF66E7DFF9F98764DA    2517.28\n",
      "Name: total_amount, dtype: float64\n",
      "Person atleast 20 trips max money is \n",
      ":  hack_license\n",
      "5114DF85775775ED4F53235D8478E80B    53.466667\n",
      "Name: total_amount, dtype: float64\n"
     ]
    }
   ],
   "source": [
    "person_group = taxidata.groupby('hack_license')\n",
    "max_money_person = person_group.total_amount.sum().sort_values(ascending=False)\n",
    "#print(max_money_person.head(1))\n",
    "print(\"Person who made max money in total \\n\",max_money_person[max_money_person == max_money_person.max()])\n",
    "\n",
    "##On a per-trip basis given he made atleast 20 trips\n",
    "mintripperperson = taxidata.groupby('hack_license').filter(lambda x:x.shape[0] >= 20)\n",
    "pertrip_group=mintripperperson.groupby('hack_license')[\"total_amount\"].mean()\n",
    "print(\"Person atleast 20 trips max money is \\n: \",pertrip_group[pertrip_group == pertrip_group.max()])\n"
   ]
  },
  {
   "cell_type": "code",
   "execution_count": 118,
   "metadata": {},
   "outputs": [
    {
     "name": "stdout",
     "output_type": "stream",
     "text": [
      "          size      mean\n",
      "size  1.000000 -0.291082\n",
      "mean -0.291082  1.000000\n"
     ]
    }
   ],
   "source": [
    "##Does the number of trips a given cabbie takes (her/his experience) correlate with how well she/he is tipped? If so, in what direction?\n",
    "groupsummary = taxidata.groupby(\"hack_license\")[\"tip_amount\"].agg([np.size,np.mean])\n",
    "print(groupsummary.corr())\n",
    "#groupsummary.head(4)\n",
    "\n",
    "#Negative coefficient of correlation\n"
   ]
  },
  {
   "cell_type": "code",
   "execution_count": 119,
   "metadata": {},
   "outputs": [
    {
     "name": "stdout",
     "output_type": "stream",
     "text": [
      "         size     mean\n",
      "size  1.00000 -0.34822\n",
      "mean -0.34822  1.00000\n"
     ]
    }
   ],
   "source": [
    "#* Does the number of times a given cab is used correlate with how well the person driving the cab is tipped? That is, are there \"lucky\" cabs?\n",
    "\n",
    "groupsummary = taxidata.groupby(\"medallion\")[\"tip_amount\"].agg([np.size,np.mean])\n",
    "print(groupsummary.corr())\n",
    "#groupsummary.head(4)"
   ]
  },
  {
   "cell_type": "code",
   "execution_count": 138,
   "metadata": {},
   "outputs": [
    {
     "name": "stdout",
     "output_type": "stream",
     "text": [
      "Vendor with highest average surcharge is :\n",
      " vendor_id\n",
      "VTS    0.293235\n",
      "dtype: float64\n"
     ]
    }
   ],
   "source": [
    "#* Which `vendor_id` had the highest average `surcharge` on a per-hour basis?\n",
    "taxidata.columns\n",
    "pervendoravg = taxidata.groupby([\"vendor_id\",\"hour\"])[\"surcharge\"].mean().unstack(level=1)\n",
    "#print(pervendoravg)\n",
    "pervendormean = pervendoravg.mean(axis=1)\n",
    "print(\"Vendor with highest average surcharge is :\\n\",pervendormean[pervendormean == pervendormean.max()])"
   ]
  },
  {
   "cell_type": "code",
   "execution_count": 140,
   "metadata": {},
   "outputs": [],
   "source": [
    "#  Which hour in the day: \n",
    "#  1. Did people most frequently take rides?\n",
    "\n",
    "hourgroup=taxidata.groupby(\"hour\").size()\n",
    "maxhour=hourgroup[hourgroup==hourgroup.max()]\n",
    "print(\"Hour of most frequent rides : \",maxhour)\n",
    "#  2. Did people least frequently take rides?\n",
    "\n",
    "hourgroup=taxidata.groupby(\"hour\").size()\n",
    "maxhour=hourgroup[hourgroup==hourgroup.min()]\n",
    "print(\"Hour of least frequest rides : \",maxhour)\n",
    "\n",
    "#  3. Had the largest number of unique cabs on the street?\n",
    "\n",
    "uniquecabs=taxidata.drop_duplicates([\"medallion\",\"hour\"])\n",
    "uniqueperhour=uniquecabs.groupby(\"hour\").size()\n",
    "maxunique=uniqueperhour[uniqueperhour==uniqueperhour.max()]\n",
    "print(\"Largest number of unique cabs per hour in the street : \",maxunique)\n",
    "#  4. Had the least number of cabs in the street?\n",
    "uniquecabs=taxidata.drop_duplicates([\"medallion\",\"hour\"])\n",
    "uniqueperhour=uniquecabs.groupby(\"hour\").size()\n",
    "maxunique=uniqueperhour[uniqueperhour==uniqueperhour.max()]\n",
    "print(\"Largest number of unique cabs per hour in the street : \",maxunique)\n",
    "\n",
    "\n",
    "#  5. What is the average number of cabs on the streets in NYC in each quarter of the day (at least in this dataset?)?\n",
    "taxidata[\"quarter\"]=pd.cut(taxidata.hour,[-1,5,11,17,np.inf])\n",
    "uniquecabs=taxidata.drop_duplicates([\"medallion\",\"quarter\"])\n",
    "avgcabsquarter=uniquecabs.groupby(\"quarter\").size()\n",
    "print(avgcabsquarter)"
   ]
  },
  {
   "cell_type": "code",
   "execution_count": 156,
   "metadata": {},
   "outputs": [
    {
     "name": "stdout",
     "output_type": "stream",
     "text": [
      "quarter\n",
      "(-1.0, 5.0]     5583\n",
      "(5.0, 11.0]     6559\n",
      "(11.0, 17.0]    7025\n",
      "(17.0, inf]     6958\n",
      "dtype: int64\n"
     ]
    }
   ],
   "source": []
  },
  {
   "cell_type": "code",
   "execution_count": null,
   "metadata": {},
   "outputs": [],
   "source": []
  }
 ],
 "metadata": {
  "kernelspec": {
   "display_name": "Python 3",
   "language": "python",
   "name": "python3"
  },
  "language_info": {
   "codemirror_mode": {
    "name": "ipython",
    "version": 3
   },
   "file_extension": ".py",
   "mimetype": "text/x-python",
   "name": "python",
   "nbconvert_exporter": "python",
   "pygments_lexer": "ipython3",
   "version": "3.7.3"
  }
 },
 "nbformat": 4,
 "nbformat_minor": 2
}
