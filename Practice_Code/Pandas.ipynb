{
 "cells": [
  {
   "cell_type": "code",
   "execution_count": 63,
   "metadata": {},
   "outputs": [],
   "source": [
    "import pandas as pd\n",
    "import numpy as np"
   ]
  },
  {
   "cell_type": "code",
   "execution_count": 64,
   "metadata": {},
   "outputs": [
    {
     "name": "stdout",
     "output_type": "stream",
     "text": [
      "Pandas version is  0.24.2\n",
      "Numpy version is  1.16.4\n"
     ]
    }
   ],
   "source": [
    "print(\"Pandas version is \",pd.__version__)\n",
    "print(\"Numpy version is \",np.__version__)"
   ]
  },
  {
   "cell_type": "code",
   "execution_count": 65,
   "metadata": {},
   "outputs": [
    {
     "data": {
      "text/plain": [
       "'C:\\\\Users\\\\Madhumita.Ganesan\\\\Desktop\\\\DataScience\\\\Practice_Code'"
      ]
     },
     "execution_count": 65,
     "metadata": {},
     "output_type": "execute_result"
    }
   ],
   "source": [
    "pwd"
   ]
  },
  {
   "cell_type": "code",
   "execution_count": 210,
   "metadata": {},
   "outputs": [
    {
     "name": "stdout",
     "output_type": "stream",
     "text": [
      "List dataframe is :\n",
      "    0\n",
      "0  1\n",
      "1  2\n",
      "2  3\n",
      "3  4\n",
      "4  5\n",
      "5  6\n",
      "Dictionalry dataframe is :\n",
      "     Name  Age     Address\n",
      "0   John   10     Chicago\n",
      "1   Mary   23          NY\n",
      "2   Tina   34      Boston\n",
      "3  Henry   10  California\n",
      "The first row that appears is an index of the Dataframe\n",
      "        Name  Age     Address\n",
      "Name                         \n",
      "John    John   10     Chicago\n",
      "Mary    Mary   23          NY\n",
      "Tina    Tina   34      Boston\n",
      "Henry  Henry   10  California\n"
     ]
    }
   ],
   "source": [
    "##Understanding Dataframe in Pandas \n",
    "data = [1,2,3,4,5,6]   ##creating a list of elements\n",
    "df = pd.DataFrame(data)\n",
    "print(\"List dataframe is :\\n\" , df)\n",
    "\n",
    "data_dict = {'Name':['John','Mary','Tina','Henry'],'Age':[10,23,34,10],'Address':['Chicago','NY','Boston','California']}\n",
    "df1=pd.DataFrame(data_dict)\n",
    "print(\"Dictionalry dataframe is :\\n\",df1)\n",
    "print(\"The first row that appears is an index of the Dataframe\")\n",
    "\n",
    "data_dict2= {'Name':['John','Mary','Tina','Henry'],'Age':[10,23,34,10],'Address':['Chicago','NY','Boston','California']}\n",
    "df2 = pd.DataFrame(data_dict2)\n",
    "df2.set_index(df2['Name'],inplace=True)\n",
    "print(df2)"
   ]
  },
  {
   "cell_type": "code",
   "execution_count": 202,
   "metadata": {},
   "outputs": [
    {
     "data": {
      "text/plain": [
       "Name       Mary\n",
       "Age          23\n",
       "Address      NY\n",
       "Name: 1, dtype: object"
      ]
     },
     "execution_count": 202,
     "metadata": {},
     "output_type": "execute_result"
    }
   ],
   "source": [
    "##Rows of Dataframe can be accessed using the index column using loc[]\n",
    "df.loc[3]\n",
    "df1.loc[1]"
   ]
  },
  {
   "cell_type": "code",
   "execution_count": 66,
   "metadata": {},
   "outputs": [],
   "source": [
    "rating_data = pd.read_csv('C:/Users/Madhumita.Ganesan/Desktop/DataScience/data/movieData/movieData/ratings.dat')"
   ]
  },
  {
   "cell_type": "code",
   "execution_count": 69,
   "metadata": {},
   "outputs": [
    {
     "data": {
      "text/plain": [
       "pandas.core.frame.DataFrame"
      ]
     },
     "execution_count": 69,
     "metadata": {},
     "output_type": "execute_result"
    }
   ],
   "source": [
    "type(rating_data)"
   ]
  },
  {
   "cell_type": "code",
   "execution_count": 70,
   "metadata": {},
   "outputs": [
    {
     "data": {
      "text/html": [
       "<div>\n",
       "<style scoped>\n",
       "    .dataframe tbody tr th:only-of-type {\n",
       "        vertical-align: middle;\n",
       "    }\n",
       "\n",
       "    .dataframe tbody tr th {\n",
       "        vertical-align: top;\n",
       "    }\n",
       "\n",
       "    .dataframe thead th {\n",
       "        text-align: right;\n",
       "    }\n",
       "</style>\n",
       "<table border=\"1\" class=\"dataframe\">\n",
       "  <thead>\n",
       "    <tr style=\"text-align: right;\">\n",
       "      <th></th>\n",
       "      <th>1::1193::5::978300760</th>\n",
       "    </tr>\n",
       "  </thead>\n",
       "  <tbody>\n",
       "    <tr>\n",
       "      <th>0</th>\n",
       "      <td>1::661::3::978302109</td>\n",
       "    </tr>\n",
       "    <tr>\n",
       "      <th>1</th>\n",
       "      <td>1::914::3::978301968</td>\n",
       "    </tr>\n",
       "    <tr>\n",
       "      <th>2</th>\n",
       "      <td>1::3408::4::978300275</td>\n",
       "    </tr>\n",
       "    <tr>\n",
       "      <th>3</th>\n",
       "      <td>1::2355::5::978824291</td>\n",
       "    </tr>\n",
       "    <tr>\n",
       "      <th>4</th>\n",
       "      <td>1::1197::3::978302268</td>\n",
       "    </tr>\n",
       "  </tbody>\n",
       "</table>\n",
       "</div>"
      ],
      "text/plain": [
       "   1::1193::5::978300760\n",
       "0   1::661::3::978302109\n",
       "1   1::914::3::978301968\n",
       "2  1::3408::4::978300275\n",
       "3  1::2355::5::978824291\n",
       "4  1::1197::3::978302268"
      ]
     },
     "execution_count": 70,
     "metadata": {},
     "output_type": "execute_result"
    }
   ],
   "source": [
    "rating_data.head()"
   ]
  },
  {
   "cell_type": "code",
   "execution_count": 71,
   "metadata": {},
   "outputs": [
    {
     "name": "stderr",
     "output_type": "stream",
     "text": [
      "c:\\users\\madhumita.ganesan\\appdata\\local\\programs\\python\\python37-32\\lib\\site-packages\\ipykernel_launcher.py:1: ParserWarning: Falling back to the 'python' engine because the 'c' engine does not support regex separators (separators > 1 char and different from '\\s+' are interpreted as regex); you can avoid this warning by specifying engine='python'.\n",
      "  \"\"\"Entry point for launching an IPython kernel.\n"
     ]
    }
   ],
   "source": [
    "rating_data=pd.read_csv('C:/Users/Madhumita.Ganesan/Desktop/DataScience/data/movieData/movieData/ratings.dat',sep='::',names=['UserId','MovieId','Ratings','TimeStamp'])"
   ]
  },
  {
   "cell_type": "code",
   "execution_count": 72,
   "metadata": {},
   "outputs": [
    {
     "name": "stdout",
     "output_type": "stream",
     "text": [
      "   UserId  MovieId  Ratings  TimeStamp\n",
      "0       1     1193        5  978300760\n",
      "1       1      661        3  978302109\n",
      "2       1      914        3  978301968\n",
      "3       1     3408        4  978300275\n",
      "4       1     2355        5  978824291 \n",
      "          UserId  MovieId  Ratings  TimeStamp\n",
      "1000204    6040     1091        1  956716541\n",
      "1000205    6040     1094        5  956704887\n",
      "1000206    6040      562        5  956704746\n",
      "1000207    6040     1096        4  956715648\n",
      "1000208    6040     1097        4  956715569\n"
     ]
    }
   ],
   "source": [
    "print(rating_data.head(),\"\\n\", rating_data.tail())"
   ]
  },
  {
   "cell_type": "code",
   "execution_count": 73,
   "metadata": {},
   "outputs": [
    {
     "data": {
      "text/plain": [
       "Index(['UserId', 'MovieId', 'Ratings', 'TimeStamp'], dtype='object')"
      ]
     },
     "execution_count": 73,
     "metadata": {},
     "output_type": "execute_result"
    }
   ],
   "source": [
    "rating_data.dtypes\n",
    "rating_data.columns"
   ]
  },
  {
   "cell_type": "code",
   "execution_count": 78,
   "metadata": {},
   "outputs": [
    {
     "name": "stdout",
     "output_type": "stream",
     "text": [
      "Unique values in Rating column is \n",
      " [5 3 4 2 1]\n",
      "Number of unique values in Rating column is \n",
      " 5\n",
      "Unique values in User ID is \n",
      " [   1    2    3 ... 6038 6039 6040]\n",
      "Number of Unique values in User ID is \n",
      " 6040\n"
     ]
    },
    {
     "data": {
      "text/html": [
       "<div>\n",
       "<style scoped>\n",
       "    .dataframe tbody tr th:only-of-type {\n",
       "        vertical-align: middle;\n",
       "    }\n",
       "\n",
       "    .dataframe tbody tr th {\n",
       "        vertical-align: top;\n",
       "    }\n",
       "\n",
       "    .dataframe thead th {\n",
       "        text-align: right;\n",
       "    }\n",
       "</style>\n",
       "<table border=\"1\" class=\"dataframe\">\n",
       "  <thead>\n",
       "    <tr style=\"text-align: right;\">\n",
       "      <th></th>\n",
       "      <th>Ratings</th>\n",
       "      <th>UserId</th>\n",
       "    </tr>\n",
       "  </thead>\n",
       "  <tbody>\n",
       "    <tr>\n",
       "      <th>0</th>\n",
       "      <td>5</td>\n",
       "      <td>1</td>\n",
       "    </tr>\n",
       "    <tr>\n",
       "      <th>1</th>\n",
       "      <td>3</td>\n",
       "      <td>1</td>\n",
       "    </tr>\n",
       "    <tr>\n",
       "      <th>2</th>\n",
       "      <td>3</td>\n",
       "      <td>1</td>\n",
       "    </tr>\n",
       "    <tr>\n",
       "      <th>3</th>\n",
       "      <td>4</td>\n",
       "      <td>1</td>\n",
       "    </tr>\n",
       "    <tr>\n",
       "      <th>4</th>\n",
       "      <td>5</td>\n",
       "      <td>1</td>\n",
       "    </tr>\n",
       "    <tr>\n",
       "      <th>5</th>\n",
       "      <td>3</td>\n",
       "      <td>1</td>\n",
       "    </tr>\n",
       "    <tr>\n",
       "      <th>6</th>\n",
       "      <td>5</td>\n",
       "      <td>1</td>\n",
       "    </tr>\n",
       "    <tr>\n",
       "      <th>7</th>\n",
       "      <td>5</td>\n",
       "      <td>1</td>\n",
       "    </tr>\n",
       "    <tr>\n",
       "      <th>8</th>\n",
       "      <td>4</td>\n",
       "      <td>1</td>\n",
       "    </tr>\n",
       "    <tr>\n",
       "      <th>9</th>\n",
       "      <td>4</td>\n",
       "      <td>1</td>\n",
       "    </tr>\n",
       "    <tr>\n",
       "      <th>10</th>\n",
       "      <td>5</td>\n",
       "      <td>1</td>\n",
       "    </tr>\n",
       "    <tr>\n",
       "      <th>11</th>\n",
       "      <td>4</td>\n",
       "      <td>1</td>\n",
       "    </tr>\n",
       "    <tr>\n",
       "      <th>12</th>\n",
       "      <td>4</td>\n",
       "      <td>1</td>\n",
       "    </tr>\n",
       "    <tr>\n",
       "      <th>13</th>\n",
       "      <td>4</td>\n",
       "      <td>1</td>\n",
       "    </tr>\n",
       "    <tr>\n",
       "      <th>14</th>\n",
       "      <td>5</td>\n",
       "      <td>1</td>\n",
       "    </tr>\n",
       "    <tr>\n",
       "      <th>15</th>\n",
       "      <td>4</td>\n",
       "      <td>1</td>\n",
       "    </tr>\n",
       "    <tr>\n",
       "      <th>16</th>\n",
       "      <td>3</td>\n",
       "      <td>1</td>\n",
       "    </tr>\n",
       "    <tr>\n",
       "      <th>17</th>\n",
       "      <td>4</td>\n",
       "      <td>1</td>\n",
       "    </tr>\n",
       "    <tr>\n",
       "      <th>18</th>\n",
       "      <td>5</td>\n",
       "      <td>1</td>\n",
       "    </tr>\n",
       "    <tr>\n",
       "      <th>19</th>\n",
       "      <td>4</td>\n",
       "      <td>1</td>\n",
       "    </tr>\n",
       "    <tr>\n",
       "      <th>20</th>\n",
       "      <td>3</td>\n",
       "      <td>1</td>\n",
       "    </tr>\n",
       "    <tr>\n",
       "      <th>21</th>\n",
       "      <td>3</td>\n",
       "      <td>1</td>\n",
       "    </tr>\n",
       "    <tr>\n",
       "      <th>22</th>\n",
       "      <td>5</td>\n",
       "      <td>1</td>\n",
       "    </tr>\n",
       "    <tr>\n",
       "      <th>23</th>\n",
       "      <td>5</td>\n",
       "      <td>1</td>\n",
       "    </tr>\n",
       "    <tr>\n",
       "      <th>24</th>\n",
       "      <td>3</td>\n",
       "      <td>1</td>\n",
       "    </tr>\n",
       "    <tr>\n",
       "      <th>25</th>\n",
       "      <td>5</td>\n",
       "      <td>1</td>\n",
       "    </tr>\n",
       "    <tr>\n",
       "      <th>26</th>\n",
       "      <td>4</td>\n",
       "      <td>1</td>\n",
       "    </tr>\n",
       "    <tr>\n",
       "      <th>27</th>\n",
       "      <td>4</td>\n",
       "      <td>1</td>\n",
       "    </tr>\n",
       "    <tr>\n",
       "      <th>28</th>\n",
       "      <td>4</td>\n",
       "      <td>1</td>\n",
       "    </tr>\n",
       "    <tr>\n",
       "      <th>29</th>\n",
       "      <td>3</td>\n",
       "      <td>1</td>\n",
       "    </tr>\n",
       "    <tr>\n",
       "      <th>...</th>\n",
       "      <td>...</td>\n",
       "      <td>...</td>\n",
       "    </tr>\n",
       "    <tr>\n",
       "      <th>1000179</th>\n",
       "      <td>4</td>\n",
       "      <td>6040</td>\n",
       "    </tr>\n",
       "    <tr>\n",
       "      <th>1000180</th>\n",
       "      <td>3</td>\n",
       "      <td>6040</td>\n",
       "    </tr>\n",
       "    <tr>\n",
       "      <th>1000181</th>\n",
       "      <td>4</td>\n",
       "      <td>6040</td>\n",
       "    </tr>\n",
       "    <tr>\n",
       "      <th>1000182</th>\n",
       "      <td>4</td>\n",
       "      <td>6040</td>\n",
       "    </tr>\n",
       "    <tr>\n",
       "      <th>1000183</th>\n",
       "      <td>4</td>\n",
       "      <td>6040</td>\n",
       "    </tr>\n",
       "    <tr>\n",
       "      <th>1000184</th>\n",
       "      <td>4</td>\n",
       "      <td>6040</td>\n",
       "    </tr>\n",
       "    <tr>\n",
       "      <th>1000185</th>\n",
       "      <td>1</td>\n",
       "      <td>6040</td>\n",
       "    </tr>\n",
       "    <tr>\n",
       "      <th>1000186</th>\n",
       "      <td>5</td>\n",
       "      <td>6040</td>\n",
       "    </tr>\n",
       "    <tr>\n",
       "      <th>1000187</th>\n",
       "      <td>1</td>\n",
       "      <td>6040</td>\n",
       "    </tr>\n",
       "    <tr>\n",
       "      <th>1000188</th>\n",
       "      <td>4</td>\n",
       "      <td>6040</td>\n",
       "    </tr>\n",
       "    <tr>\n",
       "      <th>1000189</th>\n",
       "      <td>5</td>\n",
       "      <td>6040</td>\n",
       "    </tr>\n",
       "    <tr>\n",
       "      <th>1000190</th>\n",
       "      <td>4</td>\n",
       "      <td>6040</td>\n",
       "    </tr>\n",
       "    <tr>\n",
       "      <th>1000191</th>\n",
       "      <td>4</td>\n",
       "      <td>6040</td>\n",
       "    </tr>\n",
       "    <tr>\n",
       "      <th>1000192</th>\n",
       "      <td>5</td>\n",
       "      <td>6040</td>\n",
       "    </tr>\n",
       "    <tr>\n",
       "      <th>1000193</th>\n",
       "      <td>4</td>\n",
       "      <td>6040</td>\n",
       "    </tr>\n",
       "    <tr>\n",
       "      <th>1000194</th>\n",
       "      <td>5</td>\n",
       "      <td>6040</td>\n",
       "    </tr>\n",
       "    <tr>\n",
       "      <th>1000195</th>\n",
       "      <td>2</td>\n",
       "      <td>6040</td>\n",
       "    </tr>\n",
       "    <tr>\n",
       "      <th>1000196</th>\n",
       "      <td>4</td>\n",
       "      <td>6040</td>\n",
       "    </tr>\n",
       "    <tr>\n",
       "      <th>1000197</th>\n",
       "      <td>3</td>\n",
       "      <td>6040</td>\n",
       "    </tr>\n",
       "    <tr>\n",
       "      <th>1000198</th>\n",
       "      <td>3</td>\n",
       "      <td>6040</td>\n",
       "    </tr>\n",
       "    <tr>\n",
       "      <th>1000199</th>\n",
       "      <td>5</td>\n",
       "      <td>6040</td>\n",
       "    </tr>\n",
       "    <tr>\n",
       "      <th>1000200</th>\n",
       "      <td>5</td>\n",
       "      <td>6040</td>\n",
       "    </tr>\n",
       "    <tr>\n",
       "      <th>1000201</th>\n",
       "      <td>4</td>\n",
       "      <td>6040</td>\n",
       "    </tr>\n",
       "    <tr>\n",
       "      <th>1000202</th>\n",
       "      <td>4</td>\n",
       "      <td>6040</td>\n",
       "    </tr>\n",
       "    <tr>\n",
       "      <th>1000203</th>\n",
       "      <td>3</td>\n",
       "      <td>6040</td>\n",
       "    </tr>\n",
       "    <tr>\n",
       "      <th>1000204</th>\n",
       "      <td>1</td>\n",
       "      <td>6040</td>\n",
       "    </tr>\n",
       "    <tr>\n",
       "      <th>1000205</th>\n",
       "      <td>5</td>\n",
       "      <td>6040</td>\n",
       "    </tr>\n",
       "    <tr>\n",
       "      <th>1000206</th>\n",
       "      <td>5</td>\n",
       "      <td>6040</td>\n",
       "    </tr>\n",
       "    <tr>\n",
       "      <th>1000207</th>\n",
       "      <td>4</td>\n",
       "      <td>6040</td>\n",
       "    </tr>\n",
       "    <tr>\n",
       "      <th>1000208</th>\n",
       "      <td>4</td>\n",
       "      <td>6040</td>\n",
       "    </tr>\n",
       "  </tbody>\n",
       "</table>\n",
       "<p>1000209 rows × 2 columns</p>\n",
       "</div>"
      ],
      "text/plain": [
       "         Ratings  UserId\n",
       "0              5       1\n",
       "1              3       1\n",
       "2              3       1\n",
       "3              4       1\n",
       "4              5       1\n",
       "5              3       1\n",
       "6              5       1\n",
       "7              5       1\n",
       "8              4       1\n",
       "9              4       1\n",
       "10             5       1\n",
       "11             4       1\n",
       "12             4       1\n",
       "13             4       1\n",
       "14             5       1\n",
       "15             4       1\n",
       "16             3       1\n",
       "17             4       1\n",
       "18             5       1\n",
       "19             4       1\n",
       "20             3       1\n",
       "21             3       1\n",
       "22             5       1\n",
       "23             5       1\n",
       "24             3       1\n",
       "25             5       1\n",
       "26             4       1\n",
       "27             4       1\n",
       "28             4       1\n",
       "29             3       1\n",
       "...          ...     ...\n",
       "1000179        4    6040\n",
       "1000180        3    6040\n",
       "1000181        4    6040\n",
       "1000182        4    6040\n",
       "1000183        4    6040\n",
       "1000184        4    6040\n",
       "1000185        1    6040\n",
       "1000186        5    6040\n",
       "1000187        1    6040\n",
       "1000188        4    6040\n",
       "1000189        5    6040\n",
       "1000190        4    6040\n",
       "1000191        4    6040\n",
       "1000192        5    6040\n",
       "1000193        4    6040\n",
       "1000194        5    6040\n",
       "1000195        2    6040\n",
       "1000196        4    6040\n",
       "1000197        3    6040\n",
       "1000198        3    6040\n",
       "1000199        5    6040\n",
       "1000200        5    6040\n",
       "1000201        4    6040\n",
       "1000202        4    6040\n",
       "1000203        3    6040\n",
       "1000204        1    6040\n",
       "1000205        5    6040\n",
       "1000206        5    6040\n",
       "1000207        4    6040\n",
       "1000208        4    6040\n",
       "\n",
       "[1000209 rows x 2 columns]"
      ]
     },
     "execution_count": 78,
     "metadata": {},
     "output_type": "execute_result"
    }
   ],
   "source": [
    "print(\"Unique values in Rating column is \\n\",rating_data.Ratings.unique())\n",
    "print(\"Number of unique values in Rating column is \\n\",rating_data.Ratings.nunique())\n",
    "\n",
    "## Other way of using columns\n",
    "print(\"Unique values in User ID is \\n\",rating_data['UserId'].unique())\n",
    "print(\"Number of Unique values in User ID is \\n\",rating_data['UserId'].nunique())\n",
    "\n",
    "rating_data[[\"Ratings\",\"UserId\"]][0:5]\n",
    "\n",
    "multiple_columns = [\"Ratings\",\"UserId\"]\n",
    "rating_data[multiple_columns]"
   ]
  },
  {
   "cell_type": "code",
   "execution_count": 79,
   "metadata": {},
   "outputs": [
    {
     "data": {
      "text/plain": [
       "Index(['UserId', 'MovieId', 'Ratings', 'TimeStamp'], dtype='object')"
      ]
     },
     "execution_count": 79,
     "metadata": {},
     "output_type": "execute_result"
    }
   ],
   "source": [
    "rating_data.columns"
   ]
  },
  {
   "cell_type": "code",
   "execution_count": 80,
   "metadata": {},
   "outputs": [],
   "source": [
    "pd.to_datetime?"
   ]
  },
  {
   "cell_type": "code",
   "execution_count": 81,
   "metadata": {},
   "outputs": [],
   "source": [
    "rating_data['Formatted_Timestamp'] = pd.to_datetime(rating_data.TimeStamp,unit='s')"
   ]
  },
  {
   "cell_type": "code",
   "execution_count": 82,
   "metadata": {},
   "outputs": [
    {
     "name": "stdout",
     "output_type": "stream",
     "text": [
      "Columns before removal Index(['UserId', 'MovieId', 'Ratings', 'TimeStamp', 'Formatted_Timestamp'], dtype='object')\n",
      "Columns after removal Index(['UserId', 'MovieId', 'Ratings', 'Formatted_Timestamp'], dtype='object')\n"
     ]
    }
   ],
   "source": [
    "print(\"Columns before removal\",rating_data.columns)\n",
    "del rating_data[\"TimeStamp\"]\n",
    "print(\"Columns after removal\",rating_data.columns)"
   ]
  },
  {
   "cell_type": "code",
   "execution_count": 83,
   "metadata": {},
   "outputs": [
    {
     "data": {
      "text/plain": [
       "UserId                          int64\n",
       "MovieId                         int64\n",
       "Ratings                         int64\n",
       "Formatted_Timestamp    datetime64[ns]\n",
       "dtype: object"
      ]
     },
     "execution_count": 83,
     "metadata": {},
     "output_type": "execute_result"
    }
   ],
   "source": [
    "rating_data.columns\n",
    "rating_data.head()\n",
    "rating_data.dtypes"
   ]
  },
  {
   "cell_type": "code",
   "execution_count": 84,
   "metadata": {},
   "outputs": [],
   "source": [
    "rating_data['month']=  rating_data.Formatted_Timestamp.dt.month"
   ]
  },
  {
   "cell_type": "code",
   "execution_count": 85,
   "metadata": {},
   "outputs": [
    {
     "name": "stdout",
     "output_type": "stream",
     "text": [
      "Num rows is : 1000209\n",
      "Num columns is : 5\n"
     ]
    }
   ],
   "source": [
    "rating_data.head()\n",
    "(numrows,numcolumns)=rating_data.shape     ## Declaring as a tuple\n",
    "[numrows1,numcolumns1]=rating_data.shape   ## Declaring as a list\n",
    "print(\"Num rows is :\",numrows1)\n",
    "print(\"Num columns is :\",numcolumns1)"
   ]
  },
  {
   "cell_type": "code",
   "execution_count": 86,
   "metadata": {},
   "outputs": [
    {
     "data": {
      "text/plain": [
       "Index(['UserId', 'MovieId', 'Ratings', 'Formatted_Timestamp', 'month'], dtype='object')"
      ]
     },
     "execution_count": 86,
     "metadata": {},
     "output_type": "execute_result"
    }
   ],
   "source": [
    "rating_data.columns     #No. of attributes in the dataset"
   ]
  },
  {
   "cell_type": "code",
   "execution_count": 87,
   "metadata": {},
   "outputs": [
    {
     "name": "stdout",
     "output_type": "stream",
     "text": [
      "Num of movies are : 3706 \n",
      " Num of users are : 6040 \n",
      " Num of years are : 4\n"
     ]
    }
   ],
   "source": [
    "nummovies= rating_data.MovieId.unique().shape  ##How many movies are in the dataset\n",
    "numusers= rating_data.UserId.nunique()        ##How many users are in the dataset\n",
    "numyears=rating_data.Formatted_Timestamp.dt.year.nunique()   ##How many unique years are in the movie dataset\n",
    "\n",
    "print(\"Num of movies are :\",nummovies[0],\"\\n\",\"Num of users are :\",numusers,\"\\n Num of years are :\",numyears)"
   ]
  },
  {
   "cell_type": "code",
   "execution_count": 88,
   "metadata": {},
   "outputs": [
    {
     "name": "stdout",
     "output_type": "stream",
     "text": [
      "Average mean of the dataset is :  UserId     3024.512348\n",
      "MovieId    1865.539898\n",
      "Ratings       3.581564\n",
      "month         8.710371\n",
      "dtype: float64\n",
      "Average Rating or mean of the dataset is :  3.581564453029317\n",
      "Median Rating of the dataset is :  4.0\n",
      "Mode Rating of the dataset is :  0    4\n",
      "dtype: int64\n",
      "Standard Deviation of rating of dataset is  UserId     1728.412695\n",
      "MovieId    1096.040689\n",
      "Ratings       1.117102\n",
      "month         2.717470\n",
      "dtype: float64\n"
     ]
    }
   ],
   "source": [
    "print(\"Average mean of the dataset is : \",rating_data.mean())\n",
    "print(\"Average Rating or mean of the dataset is : \",rating_data.Ratings.mean())\n",
    "print(\"Median Rating of the dataset is : \",rating_data.Ratings.median())\n",
    "print(\"Mode Rating of the dataset is : \",rating_data.Ratings.mode())\n",
    "print(\"Standard Deviation of rating of dataset is \",rating_data.std())\n"
   ]
  },
  {
   "cell_type": "code",
   "execution_count": 89,
   "metadata": {},
   "outputs": [
    {
     "name": "stdout",
     "output_type": "stream",
     "text": [
      "Crappy rating :\n",
      " 0    False\n",
      "1    False\n",
      "2    False\n",
      "3    False\n",
      "4    False\n",
      "Name: Ratings, dtype: bool\n",
      "Number of unique crappy ratings are : 2\n",
      "Unique crappy ratings are : [2 1]\n",
      "Number of crappy ratings are : 163731\n",
      "Crappy rating is :     UserId  MovieId  Ratings Formatted_Timestamp  month\n",
      "67       2     1213        2 2000-12-31 21:34:18     12\n",
      "73       2      434        2 2000-12-31 22:02:54     12\n",
      "75       2     3107        2 2000-12-31 22:00:02     12\n",
      "83       2      902        2 2000-12-31 21:41:45     12\n",
      "91       2     3256        2 2000-12-31 21:57:19     12\n",
      "Rating data is :    UserId  MovieId  Ratings Formatted_Timestamp  month\n",
      "0       1     1193        5 2000-12-31 22:12:40     12\n",
      "1       1      661        3 2000-12-31 22:35:09     12\n",
      "2       1      914        3 2000-12-31 22:32:48     12\n",
      "3       1     3408        4 2000-12-31 22:04:35     12\n",
      "4       1     2355        5 2001-01-06 23:38:11      1\n"
     ]
    }
   ],
   "source": [
    "crappy_ratings=rating_data.Ratings < 3\n",
    "crappy_ratings.value_counts()\n",
    "print(\"Crappy rating :\\n\",crappy_ratings.head())\n",
    "crappy_rating=rating_data[crappy_ratings]\n",
    "crappy_rating.head()\n",
    "print(\"Number of unique crappy ratings are :\",crappy_rating.Ratings.nunique())\n",
    "print(\"Unique crappy ratings are :\",crappy_rating.Ratings.unique())\n",
    "print(\"Number of crappy ratings are :\",crappy_rating.shape[0])\n",
    "print(\"Crappy rating is :\",crappy_rating.head())\n",
    "print(\"Rating data is :\",rating_data.head())"
   ]
  },
  {
   "cell_type": "code",
   "execution_count": 90,
   "metadata": {},
   "outputs": [
    {
     "name": "stdout",
     "output_type": "stream",
     "text": [
      "Rating data for Jan is \n",
      " 0    False\n",
      "1    False\n",
      "2    False\n",
      "3    False\n",
      "4     True\n",
      "Name: Formatted_Timestamp, dtype: bool\n",
      "Crappy data for Jan is \n",
      " 67    False\n",
      "73    False\n",
      "75    False\n",
      "83    False\n",
      "91    False\n",
      "Name: Formatted_Timestamp, dtype: bool\n"
     ]
    }
   ],
   "source": [
    "rating_jan=rating_data.Formatted_Timestamp.dt.month == 1\n",
    "rating_crappy_jan=crappy_rating.Formatted_Timestamp.dt.month == 1\n",
    "\n",
    "print(\"Rating data for Jan is \\n\",rating_jan.head())\n",
    "print(\"Crappy data for Jan is \\n\",rating_crappy_jan.head())"
   ]
  },
  {
   "cell_type": "code",
   "execution_count": 91,
   "metadata": {},
   "outputs": [
    {
     "name": "stdout",
     "output_type": "stream",
     "text": [
      "Rating data for January     UserId  MovieId  Ratings Formatted_Timestamp  month\n",
      "4        1     2355        5 2001-01-06 23:38:11      1\n",
      "10       1      595        5 2001-01-06 23:37:48      1\n",
      "16       1     2687        3 2001-01-06 23:37:48      1\n",
      "23       1      527        5 2001-01-06 23:36:35      1\n",
      "25       1       48        5 2001-01-06 23:39:11      1\n",
      "Crappy rating for January       UserId  MovieId  Ratings Formatted_Timestamp  month\n",
      "1017      10      932        2 2001-01-10 23:06:25      1\n",
      "1078      10     1639        2 2001-01-10 23:03:15      1\n",
      "1201      11     1682        1 2001-01-07 21:23:06      1\n",
      "1206      11     2706        2 2001-01-07 21:18:06      1\n",
      "1207      11      586        1 2001-01-07 21:52:36      1\n"
     ]
    }
   ],
   "source": [
    "rating_jan_df=rating_data[rating_jan]\n",
    "#rating_crapjan_df=rating_data[rating_crappy_jan]\n",
    "print(\"Rating data for January\",rating_jan_df.head())\n",
    "\n",
    "rating_crapjan_df=crappy_rating[rating_crappy_jan]\n",
    "print(\"Crappy rating for January\",rating_crapjan_df.head())"
   ]
  },
  {
   "cell_type": "code",
   "execution_count": 92,
   "metadata": {},
   "outputs": [
    {
     "name": "stdout",
     "output_type": "stream",
     "text": [
      "Average rating in Jan is : 3.543\n",
      "Average rating in Jan is : 1.698\n"
     ]
    }
   ],
   "source": [
    "avg_rating_jan=round(rating_jan_df.Ratings.mean(),3)\n",
    "print(\"Average rating in Jan is :\",avg_rating_jan)\n",
    "\n",
    "avg_craprating_jan=round(rating_crapjan_df.Ratings.mean(),3)\n",
    "print(\"Average rating in Jan is :\",avg_craprating_jan)"
   ]
  },
  {
   "cell_type": "code",
   "execution_count": 93,
   "metadata": {},
   "outputs": [
    {
     "data": {
      "text/plain": [
       "3.543"
      ]
     },
     "execution_count": 93,
     "metadata": {},
     "output_type": "execute_result"
    }
   ],
   "source": [
    "jan_mask= rating_data.month==1\n",
    "jan_mask.value_counts()\n",
    "\n",
    "jan_df = rating_data[jan_mask]\n",
    "jan_df.shape\n",
    "\n",
    "#print(jan_df.head())\n",
    "\n",
    "round(jan_df.Ratings.mean(),3)"
   ]
  },
  {
   "cell_type": "code",
   "execution_count": 94,
   "metadata": {},
   "outputs": [
    {
     "data": {
      "text/html": [
       "<div>\n",
       "<style scoped>\n",
       "    .dataframe tbody tr th:only-of-type {\n",
       "        vertical-align: middle;\n",
       "    }\n",
       "\n",
       "    .dataframe tbody tr th {\n",
       "        vertical-align: top;\n",
       "    }\n",
       "\n",
       "    .dataframe thead th {\n",
       "        text-align: right;\n",
       "    }\n",
       "</style>\n",
       "<table border=\"1\" class=\"dataframe\">\n",
       "  <thead>\n",
       "    <tr style=\"text-align: right;\">\n",
       "      <th></th>\n",
       "      <th>UserId</th>\n",
       "      <th>MovieId</th>\n",
       "      <th>Ratings</th>\n",
       "      <th>Formatted_Timestamp</th>\n",
       "      <th>month</th>\n",
       "    </tr>\n",
       "  </thead>\n",
       "  <tbody>\n",
       "    <tr>\n",
       "      <th>0</th>\n",
       "      <td>1</td>\n",
       "      <td>1193</td>\n",
       "      <td>5</td>\n",
       "      <td>2000-12-31 22:12:40</td>\n",
       "      <td>12</td>\n",
       "    </tr>\n",
       "    <tr>\n",
       "      <th>1</th>\n",
       "      <td>1</td>\n",
       "      <td>661</td>\n",
       "      <td>3</td>\n",
       "      <td>2000-12-31 22:35:09</td>\n",
       "      <td>12</td>\n",
       "    </tr>\n",
       "    <tr>\n",
       "      <th>2</th>\n",
       "      <td>1</td>\n",
       "      <td>914</td>\n",
       "      <td>3</td>\n",
       "      <td>2000-12-31 22:32:48</td>\n",
       "      <td>12</td>\n",
       "    </tr>\n",
       "    <tr>\n",
       "      <th>3</th>\n",
       "      <td>1</td>\n",
       "      <td>3408</td>\n",
       "      <td>4</td>\n",
       "      <td>2000-12-31 22:04:35</td>\n",
       "      <td>12</td>\n",
       "    </tr>\n",
       "    <tr>\n",
       "      <th>4</th>\n",
       "      <td>1</td>\n",
       "      <td>2355</td>\n",
       "      <td>5</td>\n",
       "      <td>2001-01-06 23:38:11</td>\n",
       "      <td>1</td>\n",
       "    </tr>\n",
       "  </tbody>\n",
       "</table>\n",
       "</div>"
      ],
      "text/plain": [
       "   UserId  MovieId  Ratings Formatted_Timestamp  month\n",
       "0       1     1193        5 2000-12-31 22:12:40     12\n",
       "1       1      661        3 2000-12-31 22:35:09     12\n",
       "2       1      914        3 2000-12-31 22:32:48     12\n",
       "3       1     3408        4 2000-12-31 22:04:35     12\n",
       "4       1     2355        5 2001-01-06 23:38:11      1"
      ]
     },
     "execution_count": 94,
     "metadata": {},
     "output_type": "execute_result"
    }
   ],
   "source": [
    "### Grouping functions in Pandas\n",
    "rating_data.columns\n",
    "rating_data.head()"
   ]
  },
  {
   "cell_type": "code",
   "execution_count": 95,
   "metadata": {},
   "outputs": [
    {
     "data": {
      "text/plain": [
       "month\n",
       "1      23072\n",
       "2      12128\n",
       "3       8537\n",
       "4      19407\n",
       "5      74278\n",
       "6      61110\n",
       "7      97004\n",
       "8     188674\n",
       "9      56791\n",
       "10     45500\n",
       "11    295461\n",
       "12    118247\n",
       "dtype: int64"
      ]
     },
     "execution_count": 95,
     "metadata": {},
     "output_type": "execute_result"
    }
   ],
   "source": [
    "monthgroups=rating_data.groupby(\"month\")\n",
    "#print(monthgroups.describe())\n",
    "#type(monthgroups)\n",
    "rating_data.month.value_counts()   ##This is the same as grouping per month, and taking the size\n",
    "ratingspermonth=monthgroups.size()\n",
    "ratingspermonth"
   ]
  },
  {
   "cell_type": "code",
   "execution_count": 97,
   "metadata": {
    "scrolled": true
   },
   "outputs": [],
   "source": [
    "month_with_most_rating = ratingspermonth[ratingspermonth == ratingspermonth.max()]"
   ]
  },
  {
   "cell_type": "code",
   "execution_count": 103,
   "metadata": {},
   "outputs": [
    {
     "data": {
      "text/html": [
       "<div>\n",
       "<style scoped>\n",
       "    .dataframe tbody tr th:only-of-type {\n",
       "        vertical-align: middle;\n",
       "    }\n",
       "\n",
       "    .dataframe tbody tr th {\n",
       "        vertical-align: top;\n",
       "    }\n",
       "\n",
       "    .dataframe thead th {\n",
       "        text-align: right;\n",
       "    }\n",
       "</style>\n",
       "<table border=\"1\" class=\"dataframe\">\n",
       "  <thead>\n",
       "    <tr style=\"text-align: right;\">\n",
       "      <th></th>\n",
       "      <th></th>\n",
       "      <th>mean</th>\n",
       "    </tr>\n",
       "    <tr>\n",
       "      <th>month</th>\n",
       "      <th>year</th>\n",
       "      <th></th>\n",
       "    </tr>\n",
       "  </thead>\n",
       "  <tbody>\n",
       "    <tr>\n",
       "      <th rowspan=\"3\" valign=\"top\">1</th>\n",
       "      <th>2001</th>\n",
       "      <td>3.543657</td>\n",
       "    </tr>\n",
       "    <tr>\n",
       "      <th>2002</th>\n",
       "      <td>3.557525</td>\n",
       "    </tr>\n",
       "    <tr>\n",
       "      <th>2003</th>\n",
       "      <td>3.511339</td>\n",
       "    </tr>\n",
       "    <tr>\n",
       "      <th rowspan=\"3\" valign=\"top\">2</th>\n",
       "      <th>2001</th>\n",
       "      <td>3.551500</td>\n",
       "    </tr>\n",
       "    <tr>\n",
       "      <th>2002</th>\n",
       "      <td>3.473558</td>\n",
       "    </tr>\n",
       "    <tr>\n",
       "      <th>2003</th>\n",
       "      <td>3.455882</td>\n",
       "    </tr>\n",
       "    <tr>\n",
       "      <th rowspan=\"2\" valign=\"top\">3</th>\n",
       "      <th>2001</th>\n",
       "      <td>3.528358</td>\n",
       "    </tr>\n",
       "    <tr>\n",
       "      <th>2002</th>\n",
       "      <td>3.279951</td>\n",
       "    </tr>\n",
       "    <tr>\n",
       "      <th rowspan=\"3\" valign=\"top\">4</th>\n",
       "      <th>2000</th>\n",
       "      <td>3.553352</td>\n",
       "    </tr>\n",
       "    <tr>\n",
       "      <th>2001</th>\n",
       "      <td>3.471282</td>\n",
       "    </tr>\n",
       "    <tr>\n",
       "      <th>2002</th>\n",
       "      <td>3.488732</td>\n",
       "    </tr>\n",
       "    <tr>\n",
       "      <th rowspan=\"3\" valign=\"top\">5</th>\n",
       "      <th>2000</th>\n",
       "      <td>3.613447</td>\n",
       "    </tr>\n",
       "    <tr>\n",
       "      <th>2001</th>\n",
       "      <td>3.460822</td>\n",
       "    </tr>\n",
       "    <tr>\n",
       "      <th>2002</th>\n",
       "      <td>3.556782</td>\n",
       "    </tr>\n",
       "    <tr>\n",
       "      <th rowspan=\"3\" valign=\"top\">6</th>\n",
       "      <th>2000</th>\n",
       "      <td>3.633906</td>\n",
       "    </tr>\n",
       "    <tr>\n",
       "      <th>2001</th>\n",
       "      <td>3.472797</td>\n",
       "    </tr>\n",
       "    <tr>\n",
       "      <th>2002</th>\n",
       "      <td>3.475959</td>\n",
       "    </tr>\n",
       "    <tr>\n",
       "      <th rowspan=\"3\" valign=\"top\">7</th>\n",
       "      <th>2000</th>\n",
       "      <td>3.630073</td>\n",
       "    </tr>\n",
       "    <tr>\n",
       "      <th>2001</th>\n",
       "      <td>3.476600</td>\n",
       "    </tr>\n",
       "    <tr>\n",
       "      <th>2002</th>\n",
       "      <td>3.398425</td>\n",
       "    </tr>\n",
       "    <tr>\n",
       "      <th rowspan=\"3\" valign=\"top\">8</th>\n",
       "      <th>2000</th>\n",
       "      <td>3.572174</td>\n",
       "    </tr>\n",
       "    <tr>\n",
       "      <th>2001</th>\n",
       "      <td>3.467670</td>\n",
       "    </tr>\n",
       "    <tr>\n",
       "      <th>2002</th>\n",
       "      <td>3.269067</td>\n",
       "    </tr>\n",
       "    <tr>\n",
       "      <th rowspan=\"3\" valign=\"top\">9</th>\n",
       "      <th>2000</th>\n",
       "      <td>3.609717</td>\n",
       "    </tr>\n",
       "    <tr>\n",
       "      <th>2001</th>\n",
       "      <td>3.541111</td>\n",
       "    </tr>\n",
       "    <tr>\n",
       "      <th>2002</th>\n",
       "      <td>3.446249</td>\n",
       "    </tr>\n",
       "    <tr>\n",
       "      <th rowspan=\"3\" valign=\"top\">10</th>\n",
       "      <th>2000</th>\n",
       "      <td>3.620419</td>\n",
       "    </tr>\n",
       "    <tr>\n",
       "      <th>2001</th>\n",
       "      <td>3.415602</td>\n",
       "    </tr>\n",
       "    <tr>\n",
       "      <th>2002</th>\n",
       "      <td>3.557199</td>\n",
       "    </tr>\n",
       "    <tr>\n",
       "      <th rowspan=\"3\" valign=\"top\">11</th>\n",
       "      <th>2000</th>\n",
       "      <td>3.571671</td>\n",
       "    </tr>\n",
       "    <tr>\n",
       "      <th>2001</th>\n",
       "      <td>3.594203</td>\n",
       "    </tr>\n",
       "    <tr>\n",
       "      <th>2002</th>\n",
       "      <td>3.549266</td>\n",
       "    </tr>\n",
       "    <tr>\n",
       "      <th rowspan=\"3\" valign=\"top\">12</th>\n",
       "      <th>2000</th>\n",
       "      <td>3.585019</td>\n",
       "    </tr>\n",
       "    <tr>\n",
       "      <th>2001</th>\n",
       "      <td>3.496568</td>\n",
       "    </tr>\n",
       "    <tr>\n",
       "      <th>2002</th>\n",
       "      <td>3.494462</td>\n",
       "    </tr>\n",
       "  </tbody>\n",
       "</table>\n",
       "</div>"
      ],
      "text/plain": [
       "                mean\n",
       "month year          \n",
       "1     2001  3.543657\n",
       "      2002  3.557525\n",
       "      2003  3.511339\n",
       "2     2001  3.551500\n",
       "      2002  3.473558\n",
       "      2003  3.455882\n",
       "3     2001  3.528358\n",
       "      2002  3.279951\n",
       "4     2000  3.553352\n",
       "      2001  3.471282\n",
       "      2002  3.488732\n",
       "5     2000  3.613447\n",
       "      2001  3.460822\n",
       "      2002  3.556782\n",
       "6     2000  3.633906\n",
       "      2001  3.472797\n",
       "      2002  3.475959\n",
       "7     2000  3.630073\n",
       "      2001  3.476600\n",
       "      2002  3.398425\n",
       "8     2000  3.572174\n",
       "      2001  3.467670\n",
       "      2002  3.269067\n",
       "9     2000  3.609717\n",
       "      2001  3.541111\n",
       "      2002  3.446249\n",
       "10    2000  3.620419\n",
       "      2001  3.415602\n",
       "      2002  3.557199\n",
       "11    2000  3.571671\n",
       "      2001  3.594203\n",
       "      2002  3.549266\n",
       "12    2000  3.585019\n",
       "      2001  3.496568\n",
       "      2002  3.494462"
      ]
     },
     "execution_count": 103,
     "metadata": {},
     "output_type": "execute_result"
    }
   ],
   "source": [
    "##What was the average rating given to movies in each month of the year?\n",
    "\n",
    "rating_data['year'] = rating_data.Formatted_Timestamp.dt.year\n",
    "rating_data.columns\n",
    "groups = rating_data.groupby([\"month\",\"year\"])\n",
    "#print(groups.describe()\n",
    "\n",
    "monthgroups.Ratings.agg([np.mean,np.size,np.std])\n",
    "avg_rating_month_year=groups.Ratings.agg([np.mean])\n",
    "avg_rating_month_year\n"
   ]
  },
  {
   "cell_type": "code",
   "execution_count": 120,
   "metadata": {},
   "outputs": [
    {
     "name": "stdout",
     "output_type": "stream",
     "text": [
      "Original number of rows is : 1000209\n",
      "Filtered data is : 982040\n"
     ]
    }
   ],
   "source": [
    "##Remove users with too few ratings (lets say < 30) and reanswer these same questions\n",
    "user_groups = rating_data.groupby(\"UserId\")\n",
    "#rating_data.columns\n",
    "\n",
    "def enoughratings(currgroup):\n",
    "    return currgroup.Ratings.size >= 30\n",
    "\n",
    "filtered_ratings = user_groups.filter(enoughratings)\n",
    "filtered_rating1 =user_groups.filter(lambda currgroup: currgroup.Ratings.size >= 30)\n",
    "\n",
    "filtered_rating1.head()\n",
    "#print(filtered_rating1.shape)\n",
    "\n",
    "print(\"Original number of rows is :\",rating_data.shape[0])\n",
    "print(\"Filtered data is :\",filtered_rating1.shape[0])"
   ]
  },
  {
   "cell_type": "code",
   "execution_count": 140,
   "metadata": {},
   "outputs": [
    {
     "name": "stdout",
     "output_type": "stream",
     "text": [
      "53\n",
      "53\n"
     ]
    },
    {
     "data": {
      "text/html": [
       "<div>\n",
       "<style scoped>\n",
       "    .dataframe tbody tr th:only-of-type {\n",
       "        vertical-align: middle;\n",
       "    }\n",
       "\n",
       "    .dataframe tbody tr th {\n",
       "        vertical-align: top;\n",
       "    }\n",
       "\n",
       "    .dataframe thead th {\n",
       "        text-align: right;\n",
       "    }\n",
       "</style>\n",
       "<table border=\"1\" class=\"dataframe\">\n",
       "  <thead>\n",
       "    <tr style=\"text-align: right;\">\n",
       "      <th></th>\n",
       "      <th>UserId</th>\n",
       "      <th>MovieId</th>\n",
       "      <th>Ratings</th>\n",
       "      <th>Formatted_Timestamp</th>\n",
       "      <th>month</th>\n",
       "      <th>year</th>\n",
       "    </tr>\n",
       "  </thead>\n",
       "  <tbody>\n",
       "    <tr>\n",
       "      <th>0</th>\n",
       "      <td>1</td>\n",
       "      <td>1193</td>\n",
       "      <td>5</td>\n",
       "      <td>2000-12-31 22:12:40</td>\n",
       "      <td>12</td>\n",
       "      <td>2000</td>\n",
       "    </tr>\n",
       "    <tr>\n",
       "      <th>1</th>\n",
       "      <td>1</td>\n",
       "      <td>661</td>\n",
       "      <td>3</td>\n",
       "      <td>2000-12-31 22:35:09</td>\n",
       "      <td>12</td>\n",
       "      <td>2000</td>\n",
       "    </tr>\n",
       "    <tr>\n",
       "      <th>2</th>\n",
       "      <td>1</td>\n",
       "      <td>914</td>\n",
       "      <td>3</td>\n",
       "      <td>2000-12-31 22:32:48</td>\n",
       "      <td>12</td>\n",
       "      <td>2000</td>\n",
       "    </tr>\n",
       "    <tr>\n",
       "      <th>3</th>\n",
       "      <td>1</td>\n",
       "      <td>3408</td>\n",
       "      <td>4</td>\n",
       "      <td>2000-12-31 22:04:35</td>\n",
       "      <td>12</td>\n",
       "      <td>2000</td>\n",
       "    </tr>\n",
       "    <tr>\n",
       "      <th>4</th>\n",
       "      <td>1</td>\n",
       "      <td>2355</td>\n",
       "      <td>5</td>\n",
       "      <td>2001-01-06 23:38:11</td>\n",
       "      <td>1</td>\n",
       "      <td>2001</td>\n",
       "    </tr>\n",
       "  </tbody>\n",
       "</table>\n",
       "</div>"
      ],
      "text/plain": [
       "   UserId  MovieId  Ratings Formatted_Timestamp  month  year\n",
       "0       1     1193        5 2000-12-31 22:12:40     12  2000\n",
       "1       1      661        3 2000-12-31 22:35:09     12  2000\n",
       "2       1      914        3 2000-12-31 22:32:48     12  2000\n",
       "3       1     3408        4 2000-12-31 22:04:35     12  2000\n",
       "4       1     2355        5 2001-01-06 23:38:11      1  2001"
      ]
     },
     "execution_count": 140,
     "metadata": {},
     "output_type": "execute_result"
    }
   ],
   "source": [
    "user_id_1 = rating_data.UserId == 1\n",
    "user_id_1_df = rating_data[user_id_1]\n",
    "\n",
    "user_id_1_df.shape[0]\n",
    "user_id_1_df\n",
    "\n",
    "user_group_small = user_id_1_df.groupby(\"UserId\")\n",
    "user_group_small.describe()\n",
    "\n",
    "user_group_small_filtered = user_group_small.filter(lambda x: x.Ratings.size >= 30)\n",
    "\n",
    "print(user_id_1_df.shape[0])\n",
    "print(user_group_small_filtered.shape[0])\n",
    "user_id_1_df.head()"
   ]
  },
  {
   "cell_type": "code",
   "execution_count": 143,
   "metadata": {},
   "outputs": [
    {
     "data": {
      "text/plain": [
       "Index(['UserId', 'MovieId', 'Ratings', 'Formatted_Timestamp', 'month', 'year'], dtype='object')"
      ]
     },
     "execution_count": 143,
     "metadata": {},
     "output_type": "execute_result"
    }
   ],
   "source": [
    "## Exercice 1\n",
    "#rating_data.Formatted_Timestamp.dt.year.value_counts()#What were the ID(s) of the average highest-rated movie in the first half of the year for those movies that were rated at least 5 times within that timespan?rating_data.columns"
   ]
  },
  {
   "cell_type": "code",
   "execution_count": 164,
   "metadata": {},
   "outputs": [
    {
     "data": {
      "text/plain": [
       "4169    2314\n",
       "Name: UserId, dtype: int64"
      ]
     },
     "execution_count": 164,
     "metadata": {},
     "output_type": "execute_result"
    }
   ],
   "source": [
    "#Which user rated the most number of movies\n",
    "\n",
    "rating_data.UserId.value_counts().head(1)"
   ]
  },
  {
   "cell_type": "code",
   "execution_count": 165,
   "metadata": {},
   "outputs": [
    {
     "data": {
      "text/plain": [
       "MovieId\n",
       "787     5.0\n",
       "989     5.0\n",
       "1830    5.0\n",
       "3172    5.0\n",
       "3233    5.0\n",
       "3280    5.0\n",
       "3382    5.0\n",
       "3607    5.0\n",
       "3656    5.0\n",
       "3881    5.0\n",
       "Name: Ratings, dtype: float64"
      ]
     },
     "execution_count": 165,
     "metadata": {},
     "output_type": "execute_result"
    }
   ],
   "source": [
    "# Which movie ID got the highest average rating\n",
    "movieGroups = rating_data.groupby('MovieId')\n",
    "avgratingperMovie = movieGroups.Ratings.mean()\n",
    "highestrating = avgratingperMovie ==avgratingperMovie.max()\n",
    "avgratingperMovie[highestrating]"
   ]
  },
  {
   "cell_type": "code",
   "execution_count": 169,
   "metadata": {},
   "outputs": [],
   "source": [
    "## Which movie ID had the most varied rating (highest standard deviation)\n",
    "moviegroups=rating_data.groupby('MovieId')\n",
    "stddevrating=moviegroups.Ratings.std()\n",
    "max_var_movie = stddevrating[stddevrating == stddevrating.max()]\n"
   ]
  },
  {
   "cell_type": "code",
   "execution_count": 175,
   "metadata": {},
   "outputs": [
    {
     "ename": "TypeError",
     "evalue": "'int' object is not callable",
     "output_type": "error",
     "traceback": [
      "\u001b[1;31m---------------------------------------------------------------------------\u001b[0m",
      "\u001b[1;31mTypeError\u001b[0m                                 Traceback (most recent call last)",
      "\u001b[1;32m<ipython-input-175-eed07b6ba6b2>\u001b[0m in \u001b[0;36m<module>\u001b[1;34m\u001b[0m\n\u001b[0;32m      4\u001b[0m \u001b[0mmoviegroups\u001b[0m\u001b[1;33m=\u001b[0m\u001b[0mrating_data\u001b[0m\u001b[1;33m.\u001b[0m\u001b[0mgroupby\u001b[0m\u001b[1;33m(\u001b[0m\u001b[1;34m'MovieId'\u001b[0m\u001b[1;33m)\u001b[0m\u001b[1;33m\u001b[0m\u001b[1;33m\u001b[0m\u001b[0m\n\u001b[0;32m      5\u001b[0m \u001b[0mmovie_filter\u001b[0m \u001b[1;33m=\u001b[0m \u001b[0mmoviegroups\u001b[0m\u001b[1;33m.\u001b[0m\u001b[0mfilter\u001b[0m\u001b[1;33m(\u001b[0m\u001b[1;32mlambda\u001b[0m \u001b[0mx\u001b[0m\u001b[1;33m:\u001b[0m\u001b[0mx\u001b[0m\u001b[1;33m.\u001b[0m\u001b[0mRatings\u001b[0m\u001b[1;33m.\u001b[0m\u001b[0msize\u001b[0m \u001b[1;33m>=\u001b[0m \u001b[1;36m5\u001b[0m\u001b[1;33m)\u001b[0m\u001b[1;33m\u001b[0m\u001b[1;33m\u001b[0m\u001b[0m\n\u001b[1;32m----> 6\u001b[1;33m \u001b[0mmovie_filter\u001b[0m\u001b[1;33m.\u001b[0m\u001b[0mMovieId\u001b[0m\u001b[1;33m.\u001b[0m\u001b[0msize\u001b[0m\u001b[1;33m(\u001b[0m\u001b[1;33m)\u001b[0m\u001b[1;33m\u001b[0m\u001b[1;33m\u001b[0m\u001b[0m\n\u001b[0m",
      "\u001b[1;31mTypeError\u001b[0m: 'int' object is not callable"
     ]
    }
   ],
   "source": [
    "## Cont of those movies that have been rated at least 5 times\n",
    "\n",
    "rating_data.columns\n",
    "moviegroups=rating_data.groupby('MovieId')\n",
    "movie_filter = moviegroups.filter(lambda x:x.Ratings.size >= 5)\n",
    "movie_filter_groups = movie_filter.groupby('MovieId')\n",
    "\n",
    "movie_filter_groups."
   ]
  },
  {
   "cell_type": "code",
   "execution_count": 177,
   "metadata": {},
   "outputs": [
    {
     "name": "stdout",
     "output_type": "stream",
     "text": [
      "month\n",
      "7    3.617985\n",
      "Name: Ratings, dtype: float64\n"
     ]
    }
   ],
   "source": [
    "## In which month were the raters most generous on avergae\n",
    "monthgroups = rating_data.groupby('month')\n",
    "month_group_filter = monthgroups.Ratings.mean()\n",
    "maxMonthmask = month_group_filter == month_group_filter.max()\n",
    "print(month_group_filter[maxMonthmask])"
   ]
  },
  {
   "cell_type": "code",
   "execution_count": 178,
   "metadata": {},
   "outputs": [
    {
     "name": "stdout",
     "output_type": "stream",
     "text": [
      "month\n",
      "5    1.137355\n",
      "Name: Ratings, dtype: float64\n"
     ]
    }
   ],
   "source": [
    "## Which month had the most variation in rating\n",
    "monthgroups = rating_data.groupby('month')\n",
    "group_std_dev = monthgroups.Ratings.std()\n",
    "MaxStdMask = group_std_dev == group_std_dev.max()\n",
    "print(group_std_dev[MaxStdMask])"
   ]
  },
  {
   "cell_type": "code",
   "execution_count": 179,
   "metadata": {},
   "outputs": [
    {
     "name": "stdout",
     "output_type": "stream",
     "text": [
      "UserId\n",
      "87    1.861354\n",
      "Name: Ratings, dtype: float64\n"
     ]
    }
   ],
   "source": [
    "## Which user had the most variation in rating\n",
    "usergroups = rating_data.groupby('UserId')\n",
    "UserVariation = usergroups.Ratings.std()\n",
    "MaxUserVarMask = UserVariation == UserVariation.max()\n",
    "print(UserVariation[MaxUserVarMask])"
   ]
  },
  {
   "cell_type": "code",
   "execution_count": 184,
   "metadata": {},
   "outputs": [
    {
     "name": "stdout",
     "output_type": "stream",
     "text": [
      "day\n",
      "0    173931\n",
      "Name: Ratings, dtype: int64\n"
     ]
    }
   ],
   "source": [
    "## On what day of the week did the users rate the most movies\n",
    "rating_data['day']= rating_data.Formatted_Timestamp.dt.dayofweek\n",
    "daygroups = rating_data.groupby('day').Ratings.size()\n",
    "print(daygroups[daygroups == daygroups.max()])"
   ]
  },
  {
   "cell_type": "code",
   "execution_count": 185,
   "metadata": {},
   "outputs": [
    {
     "name": "stdout",
     "output_type": "stream",
     "text": [
      "hour\n",
      "21    65491\n",
      "Name: Ratings, dtype: int64\n"
     ]
    }
   ],
   "source": [
    "## Which hour in the day did the users rate most movies\n",
    "rating_data['hour'] = rating_data.Formatted_Timestamp.dt.hour\n",
    "hourgroupsRating = rating_data.groupby('hour').Ratings.size()\n",
    "print(hourgroupsRating[hourgroupsRating == hourgroupsRating.max()])"
   ]
  },
  {
   "cell_type": "code",
   "execution_count": 187,
   "metadata": {},
   "outputs": [
    {
     "name": "stdout",
     "output_type": "stream",
     "text": [
      "hour\n",
      "13    3.633886\n",
      "Name: Ratings, dtype: float64\n"
     ]
    }
   ],
   "source": [
    "#9. What hour in the day had the highest average movie rating?\n",
    "hourgroups = rating_data.groupby('hour')\n",
    "AvgMovieRating = hourgroups.Ratings.mean()\n",
    "\n",
    "print(AvgMovieRating[AvgMovieRating == AvgMovieRating.max()])\n"
   ]
  },
  {
   "cell_type": "code",
   "execution_count": 189,
   "metadata": {},
   "outputs": [
    {
     "name": "stdout",
     "output_type": "stream",
     "text": [
      "UserId\n",
      "283    4.962963\n",
      "Name: Ratings, dtype: float64\n"
     ]
    }
   ],
   "source": [
    "#10. Which user gave movies the highest average rating?\n",
    "usergroups = rating_data.groupby('UserId')\n",
    "user_high_rating = usergroups.Ratings.mean()\n",
    "print(user_high_rating[user_high_rating == user_high_rating.max()])"
   ]
  }
 ],
 "metadata": {
  "kernelspec": {
   "display_name": "Python 3",
   "language": "python",
   "name": "python3"
  },
  "language_info": {
   "codemirror_mode": {
    "name": "ipython",
    "version": 3
   },
   "file_extension": ".py",
   "mimetype": "text/x-python",
   "name": "python",
   "nbconvert_exporter": "python",
   "pygments_lexer": "ipython3",
   "version": "3.7.3"
  }
 },
 "nbformat": 4,
 "nbformat_minor": 2
}
