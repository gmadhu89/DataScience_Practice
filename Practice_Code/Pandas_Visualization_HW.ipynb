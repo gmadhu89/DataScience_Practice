{
 "cells": [
  {
   "cell_type": "code",
   "execution_count": 38,
   "metadata": {},
   "outputs": [],
   "source": [
    "import numpy as np\n",
    "import pandas as pd\n",
    "import scipy.stats as stats\n",
    "import warnings\n",
    "warnings.filterwarnings('ignore')\n",
    "\n",
    "%matplotlib inline\n",
    "import seaborn as sns\n",
    "import matplotlib.pyplot as plt"
   ]
  },
  {
   "cell_type": "code",
   "execution_count": 39,
   "metadata": {},
   "outputs": [],
   "source": [
    "taxidata=pd.read_csv('C:/Users/Madhumita.Ganesan/Desktop/DataScience/data/nyctaxi/nycTaxiData/trip_data_500k.csv',engine='python')\n",
    "taxifare=pd.read_csv('C:/Users/Madhumita.Ganesan/Desktop/DataScience/data/nyctaxi/nycTaxiData/trip_fare_500k.csv',engine='python')"
   ]
  },
  {
   "cell_type": "code",
   "execution_count": 40,
   "metadata": {},
   "outputs": [
    {
     "data": {
      "text/plain": [
       "pandas.core.frame.DataFrame"
      ]
     },
     "execution_count": 40,
     "metadata": {},
     "output_type": "execute_result"
    }
   ],
   "source": [
    "type(taxidata)"
   ]
  },
  {
   "cell_type": "code",
   "execution_count": 44,
   "metadata": {},
   "outputs": [
    {
     "name": "stdout",
     "output_type": "stream",
     "text": [
      "<class 'pandas.core.frame.DataFrame'>\n"
     ]
    },
    {
     "data": {
      "text/plain": [
       "Index(['medallion', 'hack_license', 'vendor_id', 'pickup_datetime',\n",
       "       'payment_type', 'fare_amount', 'surcharge', 'mta_tax', 'tip_amount',\n",
       "       'tolls_amount', 'total_amount'],\n",
       "      dtype='object')"
      ]
     },
     "execution_count": 44,
     "metadata": {},
     "output_type": "execute_result"
    }
   ],
   "source": [
    "print(type(taxifare))\n",
    "taxifare.columns\n"
   ]
  },
  {
   "cell_type": "code",
   "execution_count": 47,
   "metadata": {},
   "outputs": [
    {
     "name": "stdout",
     "output_type": "stream",
     "text": [
      "0   2013-01-01 15:11:48\n",
      "1   2013-01-06 00:18:35\n",
      "2   2013-01-05 18:49:41\n",
      "3   2013-01-07 23:54:15\n",
      "4   2013-01-07 23:25:03\n",
      "Name: pickup_date, dtype: datetime64[ns]\n"
     ]
    }
   ],
   "source": [
    "taxifare.columns\n",
    "#taxidata.columns\n",
    "taxifare.head()\n",
    "#taxifare.dtypes\n",
    "##Data Cleanup\n",
    "\n",
    "taxifare['pickup_date']=pd.to_datetime(taxifare['pickup_datetime'],format=\"%Y-%m-%d\",infer_datetime_format=False,exact=True)\n",
    "taxifare.columns\n",
    "#del taxifare['pickup_datetime']\n",
    "taxifare.columns\n",
    "\n",
    "print(taxifare['pickup_date'].head())"
   ]
  },
  {
   "cell_type": "code",
   "execution_count": 48,
   "metadata": {},
   "outputs": [
    {
     "name": "stdout",
     "output_type": "stream",
     "text": [
      "Monday       216468\n",
      "Sunday       155724\n",
      "Tuesday      126590\n",
      "Saturday        426\n",
      "Wednesday       331\n",
      "Friday          314\n",
      "Thursday        147\n",
      "Name: pickup_day, dtype: int64\n",
      "Weekday    343850\n",
      "Weekend    156150\n",
      "Name: pickup_day_category, dtype: int64\n"
     ]
    }
   ],
   "source": [
    "taxifare['pickup_date'].head()\n",
    "taxifare['pickup_day'] = taxifare['pickup_date'].dt.day_name()\n",
    "taxifare['pickup_day_category']=np.where((taxifare['pickup_day'] == 'Saturday') | (taxifare['pickup_day'] == 'Sunday'),'Weekend','Weekday')\n",
    "taxifare.columns\n",
    "\n",
    "print(taxifare['pickup_day'].value_counts())\n",
    "print(taxifare['pickup_day_category'].value_counts())"
   ]
  },
  {
   "cell_type": "code",
   "execution_count": 54,
   "metadata": {},
   "outputs": [
    {
     "data": {
      "text/plain": [
       "Index(['medallion', 'hack_license', 'vendor_id', 'payment_type', 'fare_amount',\n",
       "       'surcharge', 'mta_tax', 'tip_amount', 'tolls_amount', 'total_amount',\n",
       "       'pickup_date', 'pickup_day', 'pickup_day_category'],\n",
       "      dtype='object')"
      ]
     },
     "execution_count": 54,
     "metadata": {},
     "output_type": "execute_result"
    }
   ],
   "source": [
    "taxifare.head(7)\n",
    "#del taxifare['pickup_datetime']\n",
    "taxifare.head(7)\n",
    "taxifare.columns"
   ]
  },
  {
   "cell_type": "code",
   "execution_count": 63,
   "metadata": {},
   "outputs": [
    {
     "data": {
      "text/plain": [
       "Text(0.5, 1.0, 'Fare amount paid accross all times')"
      ]
     },
     "execution_count": 63,
     "metadata": {},
     "output_type": "execute_result"
    },
    {
     "data": {
      "image/png": "[encoded data removed]",
      "text/plain": [
       "<Figure size 432x288 with 1 Axes>"
      ]
     },
     "metadata": {
      "needs_background": "light"
     },
     "output_type": "display_data"
    }
   ],
   "source": [
    "## Distribution of Fares paid \n",
    "##Accross all times\n",
    "plt.xlim(xmin=0, xmax = 100)\n",
    "fare_dist=taxifare['total_amount'].hist(bins=50)\n",
    "sns.mpl.pyplot.ylabel('Number of fairs paid')\n",
    "sns.mpl.pyplot.xlabel('Fare amount per time')\n",
    "sns.mpl.pyplot.title('Fare amount paid accross all times')"
   ]
  },
  {
   "cell_type": "code",
   "execution_count": 69,
   "metadata": {},
   "outputs": [
    {
     "data": {
      "text/plain": [
       "Text(0.5, 1.0, 'Fare amount paid Weekdays/Weekends Separate Graphs')"
      ]
     },
     "execution_count": 69,
     "metadata": {},
     "output_type": "execute_result"
    },
    {
     "data": {
      "image/png": "[encoded data removed]",
      "text/plain": [
       "<Figure size 2160x720 with 8 Axes>"
      ]
     },
     "metadata": {
      "needs_background": "light"
     },
     "output_type": "display_data"
    }
   ],
   "source": [
    "## Weekdays versus Weekends\n",
    "fare_dist=taxifare['total_amount'].hist(by=taxifare['pickup_day_category'],bins=50,sharex=True,sharey=True,layout=(2,4),figsize=(30,10))\n",
    "plt.xlim(xmin=0, xmax = 100)\n",
    "sns.mpl.pyplot.title('Fare amount paid Weekdays/Weekends Separate Graphs')"
   ]
  },
  {
   "cell_type": "code",
   "execution_count": 66,
   "metadata": {},
   "outputs": [
    {
     "data": {
      "text/plain": [
       "Text(0.5, 1.0, 'Fare amount paid Weekdays/Weekends Staked Histogram')"
      ]
     },
     "execution_count": 66,
     "metadata": {},
     "output_type": "execute_result"
    },
    {
     "data": {
      "image/png": "[encoded data removed]",
      "text/plain": [
       "<Figure size 432x288 with 1 Axes>"
      ]
     },
     "metadata": {
      "needs_background": "light"
     },
     "output_type": "display_data"
    }
   ],
   "source": [
    "plt.xlim(xmin=0, xmax = 100)\n",
    "stackedhistogram=taxifare['total_amount'].groupby(taxifare['pickup_day_category']).hist(bins=50)\n",
    "sns.mpl.pyplot.legend(stackedhistogram.index)\n",
    "sns.mpl.pyplot.title('Fare amount paid Weekdays/Weekends Staked Histogram')"
   ]
  },
  {
   "cell_type": "code",
   "execution_count": null,
   "metadata": {},
   "outputs": [],
   "source": []
  }
 ],
 "metadata": {
  "kernelspec": {
   "display_name": "Python 3",
   "language": "python",
   "name": "python3"
  },
  "language_info": {
   "codemirror_mode": {
    "name": "ipython",
    "version": 3
   },
   "file_extension": ".py",
   "mimetype": "text/x-python",
   "name": "python",
   "nbconvert_exporter": "python",
   "pygments_lexer": "ipython3",
   "version": "3.7.3"
  }
 },
 "nbformat": 4,
 "nbformat_minor": 2
}
