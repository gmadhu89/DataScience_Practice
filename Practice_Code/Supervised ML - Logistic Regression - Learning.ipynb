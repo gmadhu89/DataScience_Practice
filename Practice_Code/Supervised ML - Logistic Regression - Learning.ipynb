{
 "cells": [
  {
   "cell_type": "code",
   "execution_count": 1,
   "metadata": {},
   "outputs": [],
   "source": [
    "#data handling/modeling\n",
    "import pandas as pd\n",
    "import numpy as np\n",
    "from sklearn.linear_model import LinearRegression, LogisticRegression\n",
    "from sklearn.model_selection import train_test_split\n",
    "from sklearn import metrics\n",
    "import scipy.stats as stats\n",
    "\n",
    "# visualization\n",
    "%matplotlib inline\n",
    "import seaborn as sns"
   ]
  },
  {
   "cell_type": "code",
   "execution_count": 4,
   "metadata": {},
   "outputs": [
    {
     "data": {
      "text/plain": [
       "AB    210\n",
       "NO    100\n",
       "Name: outcome, dtype: int64"
      ]
     },
     "execution_count": 4,
     "metadata": {},
     "output_type": "execute_result"
    }
   ],
   "source": [
    "vertebral_data=pd.read_csv('C:/Users/Madhumita.Ganesan/Desktop/DataScience/data/vertebral_column_2_categories.txt',sep=\" \",names = [\"pelvic_incidence\",\"pelvic_tilt\",\"lumbar_lordosis_angle\",\"sacral_slope\",\"pelvic_radius\",\"spondy_grade\",\"outcome\"])\n",
    "vertebral_data.outcome.value_counts()"
   ]
  },
  {
   "cell_type": "markdown",
   "metadata": {},
   "source": [
    "Plotting Categorical Variables using Simple Linear Regression"
   ]
  },
  {
   "cell_type": "code",
   "execution_count": 6,
   "metadata": {},
   "outputs": [
    {
     "data": {
      "text/plain": [
       "1    210\n",
       "0    100\n",
       "Name: outcome_number, dtype: int64"
      ]
     },
     "execution_count": 6,
     "metadata": {},
     "output_type": "execute_result"
    }
   ],
   "source": [
    "vertebral_data[\"outcome_number\"]= (vertebral_data.outcome == 'AB').astype(int)\n",
    "vertebral_data.outcome_number.value_counts()"
   ]
  },
  {
   "cell_type": "raw",
   "metadata": {},
   "source": [
    "sns.pairplot(vertebral_data,x_vars='pelvic_incidence',y_vars='outcome_number',height=5,aspect=0.8)"
   ]
  },
  {
   "cell_type": "code",
   "execution_count": 15,
   "metadata": {},
   "outputs": [
    {
     "name": "stdout",
     "output_type": "stream",
     "text": [
      "Intercept and coeff are : 0.09677171247257943   [0.00959804]\n"
     ]
    },
    {
     "data": {
      "text/plain": [
       "<matplotlib.collections.PathCollection at 0xfcc8cf0>"
      ]
     },
     "execution_count": 15,
     "metadata": {},
     "output_type": "execute_result"
    },
    {
     "data": {
      "image/png": "[encoded data removed]",
      "text/plain": [
       "<Figure size 432x288 with 1 Axes>"
      ]
     },
     "metadata": {
      "needs_background": "light"
     },
     "output_type": "display_data"
    }
   ],
   "source": [
    "## Simple linear regression on categorical data\n",
    "feature_cols='pelvic_incidence'\n",
    "X=vertebral_data[feature_cols]\n",
    "y=vertebral_data.outcome_number\n",
    "linreg = LinearRegression()\n",
    "linreg.fit(X.values.reshape(-1,1),y)\n",
    "\n",
    "print(\"Intercept and coeff are :\",linreg.intercept_,\" \",linreg.coef_)\n",
    "y_pred=linreg.predict(X.values.reshape(-1,1))\n",
    "\n",
    "sns.mpl.pyplot.scatter(vertebral_data.pelvic_incidence,vertebral_data.outcome_number)\n",
    "sns.mpl.pyplot.scatter(vertebral_data.pelvic_incidence,y_pred,color='red')"
   ]
  },
  {
   "cell_type": "code",
   "execution_count": 17,
   "metadata": {},
   "outputs": [
    {
     "data": {
      "text/plain": [
       "array([0.70173614, 0.47167114, 0.75740477, 0.76191585, 0.57389026,\n",
       "       0.4830928 , 0.60959496, 0.53223477, 0.51706986, 0.44892378])"
      ]
     },
     "execution_count": 17,
     "metadata": {},
     "output_type": "execute_result"
    }
   ],
   "source": [
    "y_pred[:10]"
   ]
  },
  {
   "cell_type": "code",
   "execution_count": 21,
   "metadata": {},
   "outputs": [
    {
     "data": {
      "text/plain": [
       "array([63.03, 39.06, 68.83, 69.3 , 49.71, 40.25, 53.43, 45.37, 43.79,\n",
       "       36.69])"
      ]
     },
     "execution_count": 21,
     "metadata": {},
     "output_type": "execute_result"
    }
   ],
   "source": [
    "vertebral_data.pelvic_incidence.values.flatten()[:10]"
   ]
  },
  {
   "cell_type": "code",
   "execution_count": 26,
   "metadata": {},
   "outputs": [
    {
     "data": {
      "text/plain": [
       "array([1, 0, 1, 1, 1, 0, 1, 1, 1, 0, 1, 0, 1, 1, 1, 1, 1, 0, 0, 0, 1, 1,\n",
       "       1, 1, 0, 1, 0, 1, 1, 1, 1, 1, 1, 0, 1, 0, 0, 0, 1, 1, 0, 1, 1, 1,\n",
       "       1, 1, 1, 0, 0, 0, 1, 1, 1, 0, 0, 1, 1, 1, 1, 1, 1, 1, 1, 1, 1, 1,\n",
       "       1, 1, 1, 1, 1, 1, 1, 1, 1, 1, 1, 1, 1, 1, 1, 1, 1, 1, 1, 1, 1, 1,\n",
       "       1, 1, 1, 1, 1, 1, 1, 1, 1, 1, 1, 1, 1, 1, 1, 1, 1, 1, 1, 1, 1, 1,\n",
       "       1, 1, 1, 1, 1, 1, 1, 1, 1, 1, 1, 1, 1, 1, 1, 1, 1, 1, 1, 1, 1, 1,\n",
       "       1, 1, 1, 1, 1, 1, 1, 1, 1, 1, 1, 1, 1, 1, 1, 1, 1, 1, 1, 1, 1, 1,\n",
       "       0, 1, 1, 1, 1, 1, 1, 1, 1, 1, 1, 1, 1, 1, 1, 1, 1, 1, 1, 1, 1, 1,\n",
       "       1, 1, 1, 1, 0, 1, 1, 1, 1, 1, 1, 1, 1, 1, 1, 1, 1, 1, 1, 1, 1, 1,\n",
       "       1, 1, 1, 1, 1, 1, 1, 1, 1, 1, 1, 1, 0, 1, 1, 1, 1, 0, 1, 0, 1, 1,\n",
       "       1, 1, 1, 1, 1, 1, 1, 1, 0, 1, 1, 1, 1, 0, 0, 1, 1, 1, 1, 1, 0, 1,\n",
       "       0, 0, 1, 1, 1, 1, 1, 1, 0, 0, 1, 1, 1, 1, 1, 1, 0, 1, 1, 1, 1, 0,\n",
       "       1, 1, 1, 1, 1, 0, 1, 1, 0, 0, 1, 1, 1, 1, 0, 1, 1, 1, 1, 1, 1, 1,\n",
       "       1, 0, 1, 1, 0, 1, 0, 1, 1, 1, 0, 1, 1, 1, 1, 1, 1, 0, 1, 1, 1, 1,\n",
       "       1, 0])"
      ]
     },
     "execution_count": 26,
     "metadata": {},
     "output_type": "execute_result"
    }
   ],
   "source": [
    "y_pred_class=np.where(y_pred >= 0.5,1,0)\n",
    "y_pred_class"
   ]
  },
  {
   "cell_type": "code",
   "execution_count": 28,
   "metadata": {},
   "outputs": [
    {
     "data": {
      "text/plain": [
       "[<matplotlib.lines.Line2D at 0xff5eaf0>]"
      ]
     },
     "execution_count": 28,
     "metadata": {},
     "output_type": "execute_result"
    },
    {
     "data": {
      "image/png": "[encoded data removed]",
      "text/plain": [
       "<Figure size 432x288 with 1 Axes>"
      ]
     },
     "metadata": {
      "needs_background": "light"
     },
     "output_type": "display_data"
    }
   ],
   "source": [
    "sns.mpl.pyplot.scatter(vertebral_data.pelvic_incidence, vertebral_data.outcome_number)\n",
    "sns.mpl.pyplot.plot(vertebral_data.pelvic_incidence, y_pred_class, color='red')"
   ]
  },
  {
   "cell_type": "code",
   "execution_count": 30,
   "metadata": {},
   "outputs": [],
   "source": [
    "# add predicted class to DataFrame\n",
    "vertebral_data['y_pred_class'] = y_pred_class\n",
    "\n",
    "# sort DataFrame by pelvic_incidence so that the line plot makes sense\n",
    "vertebral_data.sort_values('pelvic_incidence', inplace=True)"
   ]
  },
  {
   "cell_type": "code",
   "execution_count": 32,
   "metadata": {},
   "outputs": [
    {
     "data": {
      "text/plain": [
       "[<matplotlib.lines.Line2D at 0x10044a50>]"
      ]
     },
     "execution_count": 32,
     "metadata": {},
     "output_type": "execute_result"
    },
    {
     "data": {
      "image/png": "[encoded data removed]",
      "text/plain": [
       "<Figure size 432x288 with 1 Axes>"
      ]
     },
     "metadata": {
      "needs_background": "light"
     },
     "output_type": "display_data"
    }
   ],
   "source": [
    "sns.mpl.pyplot.scatter(vertebral_data.pelvic_incidence, vertebral_data.outcome_number)\n",
    "sns.mpl.pyplot.plot(vertebral_data.pelvic_incidence, vertebral_data.y_pred_class, color='red')"
   ]
  },
  {
   "cell_type": "markdown",
   "metadata": {},
   "source": [
    "Using Logistic Regression for plotting Categorical Values"
   ]
  },
  {
   "cell_type": "code",
   "execution_count": 33,
   "metadata": {},
   "outputs": [],
   "source": [
    "logreg=LogisticRegression(C=1e9,solver='lbfgs')\n",
    "feature_cols=['pelvic_incidence']\n",
    "X_log=vertebral_data[feature_cols]\n",
    "y_log=vertebral_data.outcome_number\n",
    "logreg.fit(X_log,y_log)\n",
    "outcome_pred_class_log=logreg.predict(X_log)"
   ]
  },
  {
   "cell_type": "code",
   "execution_count": 34,
   "metadata": {},
   "outputs": [
    {
     "data": {
      "text/plain": [
       "array([0, 0, 0, 0, 0, 0, 0, 0, 0, 0, 0, 0, 0, 0, 0, 0, 0, 0, 0, 0, 0, 0,\n",
       "       0, 0, 0, 0, 0, 0, 0, 0, 0, 0, 0, 0, 0, 0, 0, 0, 0, 0, 0, 0, 0, 0,\n",
       "       0, 0, 0, 0, 0, 0, 0, 0, 0, 0, 0, 0, 0, 1, 1, 1, 1, 1, 1, 1, 1, 1,\n",
       "       1, 1, 1, 1, 1, 1, 1, 1, 1, 1, 1, 1, 1, 1, 1, 1, 1, 1, 1, 1, 1, 1,\n",
       "       1, 1, 1, 1, 1, 1, 1, 1, 1, 1, 1, 1, 1, 1, 1, 1, 1, 1, 1, 1, 1, 1,\n",
       "       1, 1, 1, 1, 1, 1, 1, 1, 1, 1, 1, 1, 1, 1, 1, 1, 1, 1, 1, 1, 1, 1,\n",
       "       1, 1, 1, 1, 1, 1, 1, 1, 1, 1, 1, 1, 1, 1, 1, 1, 1, 1, 1, 1, 1, 1,\n",
       "       1, 1, 1, 1, 1, 1, 1, 1, 1, 1, 1, 1, 1, 1, 1, 1, 1, 1, 1, 1, 1, 1,\n",
       "       1, 1, 1, 1, 1, 1, 1, 1, 1, 1, 1, 1, 1, 1, 1, 1, 1, 1, 1, 1, 1, 1,\n",
       "       1, 1, 1, 1, 1, 1, 1, 1, 1, 1, 1, 1, 1, 1, 1, 1, 1, 1, 1, 1, 1, 1,\n",
       "       1, 1, 1, 1, 1, 1, 1, 1, 1, 1, 1, 1, 1, 1, 1, 1, 1, 1, 1, 1, 1, 1,\n",
       "       1, 1, 1, 1, 1, 1, 1, 1, 1, 1, 1, 1, 1, 1, 1, 1, 1, 1, 1, 1, 1, 1,\n",
       "       1, 1, 1, 1, 1, 1, 1, 1, 1, 1, 1, 1, 1, 1, 1, 1, 1, 1, 1, 1, 1, 1,\n",
       "       1, 1, 1, 1, 1, 1, 1, 1, 1, 1, 1, 1, 1, 1, 1, 1, 1, 1, 1, 1, 1, 1,\n",
       "       1, 1])"
      ]
     },
     "execution_count": 34,
     "metadata": {},
     "output_type": "execute_result"
    }
   ],
   "source": [
    "outcome_pred_class_log"
   ]
  },
  {
   "cell_type": "code",
   "execution_count": 35,
   "metadata": {},
   "outputs": [
    {
     "data": {
      "text/plain": [
       "[<matplotlib.lines.Line2D at 0x100696d0>]"
      ]
     },
     "execution_count": 35,
     "metadata": {},
     "output_type": "execute_result"
    },
    {
     "data": {
      "image/png": "[encoded data removed]",
      "text/plain": [
       "<Figure size 432x288 with 1 Axes>"
      ]
     },
     "metadata": {
      "needs_background": "light"
     },
     "output_type": "display_data"
    }
   ],
   "source": [
    "sns.mpl.pyplot.scatter(vertebral_data.pelvic_incidence, vertebral_data.outcome_number)\n",
    "sns.mpl.pyplot.plot(vertebral_data.pelvic_incidence,outcome_pred_class_log,color='red')"
   ]
  },
  {
   "cell_type": "code",
   "execution_count": 40,
   "metadata": {},
   "outputs": [],
   "source": [
    "## Predicted probabilites instead od just classes of prediction\n",
    "outcome_prob=logreg.predict_proba(X_log)[:,1]"
   ]
  },
  {
   "cell_type": "code",
   "execution_count": 46,
   "metadata": {},
   "outputs": [
    {
     "data": {
      "text/plain": [
       "array([0.27756036, 0.32267634, 0.32964905, 0.33549763, 0.33609732,\n",
       "       0.33850131, 0.34588476, 0.3575319 , 0.36684819, 0.36747292,\n",
       "       0.374248  , 0.37765431, 0.37904556, 0.38832789, 0.39101356,\n",
       "       0.39332084, 0.39653328, 0.39691938, 0.4002709 , 0.40376123,\n",
       "       0.4096    , 0.41729381, 0.41951834, 0.42148388, 0.4225332 ,\n",
       "       0.42752683, 0.42950213, 0.43002926, 0.43478043, 0.43517692,\n",
       "       0.43874895, 0.44272532, 0.4505665 , 0.45189806, 0.45269733,\n",
       "       0.45469656, 0.456297  , 0.457231  , 0.46284114, 0.46310854,\n",
       "       0.46524845, 0.46926419, 0.47033574, 0.47087162, 0.47422235,\n",
       "       0.48093048, 0.48093048, 0.48630206, 0.48898911, 0.48992974,\n",
       "       0.49006412, 0.49208   , 0.49328965, 0.49517149, 0.49705346,\n",
       "       0.49799448, 0.49974213, 0.50377511, 0.50417839, 0.50511935,\n",
       "       0.50565703, 0.50659793, 0.50740438, 0.507942  , 0.5082108 ,\n",
       "       0.51304823, 0.51345125, 0.51533178, 0.51761469, 0.51922572,\n",
       "       0.5201653 , 0.52150732, 0.52204404, 0.52365389, 0.53089165,\n",
       "       0.53263225, 0.53289997, 0.53343534, 0.53356917, 0.53624476,\n",
       "       0.53918549, 0.54532526, 0.54985461, 0.55091917, 0.55185027,\n",
       "       0.55304687, 0.55477421, 0.55517264, 0.55583653, 0.55663294,\n",
       "       0.557827  , 0.55862267, 0.55875525, 0.56497688, 0.56629806,\n",
       "       0.56656219, 0.5676183 , 0.57696336, 0.57696336, 0.57788184,\n",
       "       0.57853757, 0.58168118, 0.58194285, 0.58285833, 0.5835119 ,\n",
       "       0.58964082, 0.59055131, 0.59146118, 0.59159111, 0.59263009,\n",
       "       0.59263009, 0.59483516, 0.59781241, 0.59807096, 0.60065347,\n",
       "       0.60181379, 0.60926345, 0.61207612, 0.61767894, 0.62489069,\n",
       "       0.62665369, 0.62803654, 0.63016957, 0.63092119, 0.63129677,\n",
       "       0.63129677, 0.63354686, 0.63379651, 0.63827788, 0.63951848,\n",
       "       0.6412522 , 0.64137589, 0.64347585, 0.64347585, 0.64384586,\n",
       "       0.64544725, 0.64802723, 0.65072082, 0.65474319, 0.65704914,\n",
       "       0.65789684, 0.66212016, 0.66320202, 0.66344221, 0.66404229,\n",
       "       0.6647617 , 0.66858556, 0.66918104, 0.67048921, 0.67215034,\n",
       "       0.67226883, 0.67486998, 0.6816758 , 0.68655639, 0.68748141,\n",
       "       0.68955723, 0.6901325 , 0.6940287 , 0.69891675, 0.70038575,\n",
       "       0.70106237, 0.70387214, 0.70811353, 0.71044207, 0.71176772,\n",
       "       0.71899375, 0.71942813, 0.72040398, 0.72245728, 0.72342665,\n",
       "       0.7268563 , 0.73625419, 0.73625419, 0.73667166, 0.73771348,\n",
       "       0.73968559, 0.74009955, 0.74236866, 0.74390834, 0.74411317,\n",
       "       0.74452252, 0.74523784, 0.745544  , 0.74584992, 0.74889576,\n",
       "       0.74899687, 0.74940103, 0.7525186 , 0.75441646, 0.75640357,\n",
       "       0.75640357, 0.76161649, 0.76229923, 0.76288336, 0.76375771,\n",
       "       0.76375771, 0.76886134, 0.77095705, 0.77369912, 0.77445145,\n",
       "       0.77585729, 0.77800078, 0.77827928, 0.7793908 , 0.780314  ,\n",
       "       0.78059042, 0.78297558, 0.79028573, 0.79126438, 0.79223967,\n",
       "       0.79374032, 0.79636892, 0.79723956, 0.7986268 , 0.79923148,\n",
       "       0.80035085, 0.80052265, 0.80427406, 0.80452789, 0.80579327,\n",
       "       0.80646559, 0.80813866, 0.81037977, 0.81079258, 0.81235499,\n",
       "       0.81276449, 0.81930281, 0.81954152, 0.82065223, 0.82160002,\n",
       "       0.82332743, 0.82395232, 0.82643448, 0.83161713, 0.83438487,\n",
       "       0.83497848, 0.83711602, 0.8374823 , 0.83777485, 0.83850435,\n",
       "       0.83959364, 0.83959364, 0.84053288, 0.84146765, 0.84374969,\n",
       "       0.84473963, 0.84621494, 0.84968141, 0.85077702, 0.8509135 ,\n",
       "       0.85615653, 0.85622274, 0.8570153 , 0.85813186, 0.85976063,\n",
       "       0.85995502, 0.8644902 , 0.86467907, 0.86505615, 0.86975609,\n",
       "       0.87115075, 0.8739019 , 0.87467024, 0.87490584, 0.87677703,\n",
       "       0.87804947, 0.87902496, 0.87999372, 0.88039066, 0.88050387,\n",
       "       0.88061698, 0.8806735 , 0.88374672, 0.88424302, 0.88782652,\n",
       "       0.89047642, 0.8930199 , 0.89455135, 0.89546091, 0.89571233,\n",
       "       0.89898134, 0.90082197, 0.90096601, 0.90144478, 0.90234877,\n",
       "       0.9026327 , 0.90371429, 0.90399467, 0.90418119, 0.9058453 ,\n",
       "       0.90779901, 0.90905155, 0.90971623, 0.91310249, 0.91454227,\n",
       "       0.91703039, 0.91861216, 0.92056053, 0.92126549, 0.92184858,\n",
       "       0.92444266, 0.92797037, 0.92995743, 0.93709223, 0.94082057,\n",
       "       0.94111926, 0.9445386 , 0.97958175, 0.98183764, 0.9902307 ])"
      ]
     },
     "execution_count": 46,
     "metadata": {},
     "output_type": "execute_result"
    }
   ],
   "source": [
    "outcome_prob"
   ]
  },
  {
   "cell_type": "code",
   "execution_count": 47,
   "metadata": {},
   "outputs": [
    {
     "data": {
      "text/plain": [
       "[<matplotlib.lines.Line2D at 0xff67e70>]"
      ]
     },
     "execution_count": 47,
     "metadata": {},
     "output_type": "execute_result"
    },
    {
     "data": {
      "image/png": "[encoded data removed]",
      "text/plain": [
       "<Figure size 432x288 with 1 Axes>"
      ]
     },
     "metadata": {
      "needs_background": "light"
     },
     "output_type": "display_data"
    }
   ],
   "source": [
    "sns.mpl.pyplot.scatter(vertebral_data.pelvic_incidence, vertebral_data.outcome_number)\n",
    "sns.mpl.pyplot.plot(vertebral_data.pelvic_incidence,outcome_prob,color='red')"
   ]
  },
  {
   "cell_type": "code",
   "execution_count": 56,
   "metadata": {},
   "outputs": [
    {
     "name": "stdout",
     "output_type": "stream",
     "text": [
      "Pelvic incident predict class  [0]\n",
      "Pelvic incident predict class  [[0.82580388 0.17419612]]\n"
     ]
    }
   ],
   "source": [
    "## Examples of predictions and probalbility of predictions\n",
    "\n",
    "print(\"Pelvic incident predict class \",logreg.predict([[15]]))\n",
    "\n",
    "print(\"Pelvic incident predict class \",logreg.predict_proba([[15]]))\n",
    "## First number indicates the probability of class 0, and second number indicates the probability of class 1"
   ]
  },
  {
   "cell_type": "code",
   "execution_count": 63,
   "metadata": {},
   "outputs": [
    {
     "data": {
      "text/plain": [
       "0.8580645161290322"
      ]
     },
     "execution_count": 63,
     "metadata": {},
     "output_type": "execute_result"
    }
   ],
   "source": [
    "##Logistic Regression of all columns to predict outcome classes\n",
    "\n",
    "feature_cols = vertebral_data.columns[:-3]\n",
    "X_all=vertebral_data[feature_cols]\n",
    "y_all=vertebral_data.outcome_number\n",
    "\n",
    "logreg_all=LogisticRegression(C=1e9,solver='lbfgs')\n",
    "logreg_all.fit(X_all,y_all)\n",
    "outcome_all = logreg_all.predict(X_all)\n",
    "\n",
    "metrics.accuracy_score(y_all,outcome_all)"
   ]
  },
  {
   "cell_type": "code",
   "execution_count": 64,
   "metadata": {},
   "outputs": [],
   "source": [
    "X_train,X_test,Y_train,Y_test=train_test_split(X_all,y_all,test_size=0.3,random_state=1)"
   ]
  },
  {
   "cell_type": "code",
   "execution_count": 65,
   "metadata": {},
   "outputs": [
    {
     "data": {
      "text/plain": [
       "0.8571428571428571"
      ]
     },
     "execution_count": 65,
     "metadata": {},
     "output_type": "execute_result"
    }
   ],
   "source": [
    "logreg_tt=LogisticRegression(C=1e9,solver='lbfgs')\n",
    "logreg_tt.fit(X_train,Y_train)\n",
    "outcome_train = logreg_tt.predict(X_train)\n",
    "metrics.accuracy_score(Y_train,outcome_train)"
   ]
  },
  {
   "cell_type": "code",
   "execution_count": 67,
   "metadata": {},
   "outputs": [
    {
     "data": {
      "text/plain": [
       "0.8279569892473119"
      ]
     },
     "execution_count": 67,
     "metadata": {},
     "output_type": "execute_result"
    }
   ],
   "source": [
    "outcome_test = logreg_tt.predict(X_test)\n",
    "metrics.accuracy_score(Y_test,outcome_test)"
   ]
  },
  {
   "cell_type": "code",
   "execution_count": null,
   "metadata": {},
   "outputs": [],
   "source": []
  }
 ],
 "metadata": {
  "kernelspec": {
   "display_name": "Python 3",
   "language": "python",
   "name": "python3"
  },
  "language_info": {
   "codemirror_mode": {
    "name": "ipython",
    "version": 3
   },
   "file_extension": ".py",
   "mimetype": "text/x-python",
   "name": "python",
   "nbconvert_exporter": "python",
   "pygments_lexer": "ipython3",
   "version": "3.7.4"
  }
 },
 "nbformat": 4,
 "nbformat_minor": 2
}
